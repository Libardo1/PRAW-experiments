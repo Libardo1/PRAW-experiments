{
 "cells": [
  {
   "cell_type": "code",
   "execution_count": 1,
   "metadata": {
    "collapsed": false
   },
   "outputs": [
    {
     "data": {
      "text/plain": [
       "['6 :: Introducing the Open API Initiative!',\n",
       " '4 :: Quack - Reuse git modules in smart way - Autodesk initiative',\n",
       " '0 :: So... Nvidia is closed source? What would it take for a single user, to ...',\n",
       " '8 :: Scribus Newsletter November 2015',\n",
       " '10 :: Is open source overtaking Splunk?']"
      ]
     },
     "execution_count": 1,
     "metadata": {},
     "output_type": "execute_result"
    }
   ],
   "source": [
    "import praw\n",
    "r = praw.Reddit(user_agent='my_cool_application')\n",
    "submissions = r.get_subreddit('opensource').get_hot(limit=5)\n",
    "[str(x) for x in submissions]"
   ]
  },
  {
   "cell_type": "code",
   "execution_count": 4,
   "metadata": {
    "collapsed": false
   },
   "outputs": [],
   "source": [
    "# Getting started with PRAW\n",
    "# android:com.example.myredditapp:v1.2.3 (by /u/kemitche)\n",
    "user_agent = \"First PRAW experiment 06112015 by /u/PopularCactus\"\n",
    "r = praw.Reddit(user_agent = user_agent)"
   ]
  },
  {
   "cell_type": "code",
   "execution_count": 5,
   "metadata": {
    "collapsed": true
   },
   "outputs": [],
   "source": [
    "user_name = \"feelingsick12\"\n",
    "user = r.get_redditor(user_name)"
   ]
  },
  {
   "cell_type": "code",
   "execution_count": 6,
   "metadata": {
    "collapsed": true
   },
   "outputs": [],
   "source": [
    "thing_limit = 10\n",
    "gen = user.get_submitted(limit = thing_limit)"
   ]
  },
  {
   "cell_type": "code",
   "execution_count": 8,
   "metadata": {
    "collapsed": false
   },
   "outputs": [],
   "source": [
    "karma_by_subreddit = {}\n",
    "for thing in gen:\n",
    "    subreddit = thing.subreddit.display_name\n",
    "    karma_by_subreddit[subreddit] = (karma_by_subreddit.get(subreddit, 0)\n",
    "                                    + thing.score)"
   ]
  },
  {
   "cell_type": "code",
   "execution_count": 9,
   "metadata": {
    "collapsed": false
   },
   "outputs": [
    {
     "name": "stdout",
     "output_type": "stream",
     "text": [
      "{u'relationships': 1099}\n"
     ]
    }
   ],
   "source": [
    "import pprint\n",
    "pprint.pprint(karma_by_subreddit)"
   ]
  },
  {
   "cell_type": "code",
   "execution_count": 54,
   "metadata": {
    "collapsed": false
   },
   "outputs": [
    {
     "name": "stdout",
     "output_type": "stream",
     "text": [
      "<generator object get_content at 0x10565cb40>\n"
     ]
    }
   ],
   "source": [
    "r_url = \"https://www.reddit.com/r/relationships\"\n",
    "submissions = r.get_content(r_url, limit = 1)\n",
    "pprint(submissions)"
   ]
  },
  {
   "cell_type": "code",
   "execution_count": 20,
   "metadata": {
    "collapsed": false
   },
   "outputs": [
    {
     "name": "stdout",
     "output_type": "stream",
     "text": [
      "{'_api_link': u'https://api.reddit.com/r/learnpython/comments/105aru/newbie_stripping_strings_of_last_character/',\n",
      " '_comment_sort': None,\n",
      " '_comments': [<praw.objects.Comment object at 0x106383b90>,\n",
      "               <praw.objects.Comment object at 0x106383890>,\n",
      "               <praw.objects.Comment object at 0x106383e50>],\n",
      " '_comments_by_id': {u't1_c6aijmu': <praw.objects.Comment object at 0x106383890>,\n",
      "                     u't1_c6ailrj': <praw.objects.Comment object at 0x106383b90>,\n",
      "                     u't1_c6ailxt': <praw.objects.Comment object at 0x106383e50>,\n",
      "                     u't1_c6ak4rq': <praw.objects.Comment object at 0x107457fd0>,\n",
      "                     u't1_c6akq4n': <praw.objects.Comment object at 0x107457f90>,\n",
      "                     u't1_c6akv1g': <praw.objects.Comment object at 0x105f073d0>},\n",
      " '_has_fetched': True,\n",
      " '_info_url': u'https://api.reddit.com/api/info/',\n",
      " '_orphaned': {},\n",
      " '_params': {},\n",
      " '_replaced_more': False,\n",
      " '_underscore_names': None,\n",
      " '_uniq': None,\n",
      " 'approved_by': None,\n",
      " 'archived': True,\n",
      " 'author': Redditor(user_name='Blackshirt12'),\n",
      " 'author_flair_css_class': u'py32bg',\n",
      " 'author_flair_text': u'',\n",
      " 'banned_by': None,\n",
      " 'clicked': False,\n",
      " 'created': 1348106569.0,\n",
      " 'created_utc': 1348077769.0,\n",
      " 'distinguished': None,\n",
      " 'domain': u'self.learnpython',\n",
      " 'downs': 0,\n",
      " 'edited': 1348083784.0,\n",
      " 'from': None,\n",
      " 'from_id': None,\n",
      " 'from_kind': None,\n",
      " 'gilded': 0,\n",
      " 'hidden': False,\n",
      " 'hide_score': False,\n",
      " 'id': u'105aru',\n",
      " 'is_self': True,\n",
      " 'json_dict': None,\n",
      " 'likes': None,\n",
      " 'link_flair_css_class': None,\n",
      " 'link_flair_text': None,\n",
      " 'locked': False,\n",
      " 'media': None,\n",
      " 'media_embed': {},\n",
      " 'mod_reports': [],\n",
      " 'name': u't3_105aru',\n",
      " 'num_comments': 6,\n",
      " 'num_reports': None,\n",
      " 'over_18': False,\n",
      " 'permalink': u'https://www.reddit.com/r/learnpython/comments/105aru/newbie_stripping_strings_of_last_character/',\n",
      " 'quarantine': False,\n",
      " 'reddit_session': <praw.Reddit object at 0x105f07510>,\n",
      " 'removal_reason': None,\n",
      " 'report_reasons': None,\n",
      " 'saved': False,\n",
      " 'score': 1,\n",
      " 'secure_media': None,\n",
      " 'secure_media_embed': {},\n",
      " 'selftext': u'Update: Thanks for the help. Got fixed.\\n\\nI need to strip 3 strings in a list of 4 of their trailing commas to get my formatting right and to convert one of them (a number) to a float but I\\'m confused on the syntax. Also, I don\\'t know of an efficient way of completing the task; I was planning on stripping each of the three strings on a new line.\\n\\n    for line in gradefile:\\n        linelist = string.split(line)\\n        #strip linelist[0],[1], and [2] of commas\\n        linelist = string.rstrip(linelist[0], \",\")',\n",
      " 'selftext_html': u'<!-- SC_OFF --><div class=\"md\"><p>Update: Thanks for the help. Got fixed.</p>\\n\\n<p>I need to strip 3 strings in a list of 4 of their trailing commas to get my formatting right and to convert one of them (a number) to a float but I&#39;m confused on the syntax. Also, I don&#39;t know of an efficient way of completing the task; I was planning on stripping each of the three strings on a new line.</p>\\n\\n<pre><code>for line in gradefile:\\n    linelist = string.split(line)\\n    #strip linelist[0],[1], and [2] of commas\\n    linelist = string.rstrip(linelist[0], &quot;,&quot;)\\n</code></pre>\\n</div><!-- SC_ON -->',\n",
      " 'stickied': False,\n",
      " 'subreddit': Subreddit(subreddit_name='learnpython'),\n",
      " 'subreddit_id': u't5_2r8ot',\n",
      " 'suggested_sort': None,\n",
      " 'thumbnail': u'',\n",
      " 'title': u'Newbie: stripping strings of last character',\n",
      " 'ups': 1,\n",
      " 'upvote_ratio': 1.0,\n",
      " 'url': u'https://www.reddit.com/r/learnpython/comments/105aru/newbie_stripping_strings_of_last_character/',\n",
      " 'user_reports': [],\n",
      " 'visited': False}\n"
     ]
    }
   ],
   "source": [
    "import praw\n",
    "from pprint import pprint\n",
    "r = praw.Reddit('Submission variables testing by /u/PopularCactus')\n",
    "submission = r.get_submission(submission_id = \"105aru\")\n",
    "pprint(vars(submission))"
   ]
  },
  {
   "cell_type": "code",
   "execution_count": 37,
   "metadata": {
    "collapsed": false
   },
   "outputs": [
    {
     "data": {
      "text/plain": [
       "dict"
      ]
     },
     "execution_count": 37,
     "metadata": {},
     "output_type": "execute_result"
    }
   ],
   "source": [
    "type(vars(submission))"
   ]
  },
  {
   "cell_type": "code",
   "execution_count": 25,
   "metadata": {
    "collapsed": true
   },
   "outputs": [],
   "source": [
    "import praw\n",
    "user_agent = (\"Second PRAW experiment 06112015 by /u/PopularCactus\")"
   ]
  },
  {
   "cell_type": "code",
   "execution_count": 26,
   "metadata": {
    "collapsed": true
   },
   "outputs": [],
   "source": [
    "reddit = praw.Reddit(user_agent = user_agent)"
   ]
  },
  {
   "cell_type": "code",
   "execution_count": 27,
   "metadata": {
    "collapsed": true
   },
   "outputs": [],
   "source": [
    "v_fixed = []"
   ]
  },
  {
   "cell_type": "code",
   "execution_count": 34,
   "metadata": {
    "collapsed": true
   },
   "outputs": [],
   "source": [
    "submission_generator = reddit.get_new(limit = 1000)"
   ]
  },
  {
   "cell_type": "code",
   "execution_count": 35,
   "metadata": {
    "collapsed": false
   },
   "outputs": [
    {
     "name": "stdout",
     "output_type": "stream",
     "text": [
      "The following 0 posts might not make much sense ...\n"
     ]
    }
   ],
   "source": [
    "for submission in submission_generator:\n",
    "    title = submission.title\n",
    "    if \"[fixed]\" in title.lower(): # smash case for simplicity\n",
    "        v_fixed.append(title)\n",
    "print \"The following %d posts might not make much sense ...\" % (len(v_fixed))\n",
    "for fixed in v_fixed:\n",
    "    print \"\\t%s\" % (fixed)"
   ]
  },
  {
   "cell_type": "code",
   "execution_count": 38,
   "metadata": {
    "collapsed": false
   },
   "outputs": [
    {
     "data": {
      "text/plain": [
       "<generator object get_content at 0x105515910>"
      ]
     },
     "execution_count": 38,
     "metadata": {},
     "output_type": "execute_result"
    }
   ],
   "source": [
    "submission_generator"
   ]
  },
  {
   "cell_type": "code",
   "execution_count": 42,
   "metadata": {
    "collapsed": false
   },
   "outputs": [
    {
     "data": {
      "text/plain": [
       "[\"1488 :: UPDATE: I (23M) caught my coworker (33M) coming out of the women's ba...\",\n",
       " '65 :: UPDATE: My[30F] ex-husband[33M] and his new wife [30sF] have asked me t...',\n",
       " '1987 :: [Update] My family was robbed and we know who did it. How do I comfor...',\n",
       " '523 :: UPDATE: Me [22 F] with my boyfriend [20 M] of 1.5 years, he made a fak...',\n",
       " \"107 :: My [16 F] mom [46 F] gave away something expensive of mine and won't p...\"]"
      ]
     },
     "execution_count": 42,
     "metadata": {},
     "output_type": "execute_result"
    }
   ],
   "source": [
    "import praw\n",
    "r = praw.Reddit(user_agent='my_cool_application')\n",
    "submissions = r.get_subreddit('relationships').get_hot(limit=5)\n",
    "[str(x) for x in submissions]"
   ]
  },
  {
   "cell_type": "code",
   "execution_count": 48,
   "metadata": {
    "collapsed": false
   },
   "outputs": [],
   "source": [
    "submissions2 = r.get_front_page()"
   ]
  },
  {
   "cell_type": "code",
   "execution_count": 49,
   "metadata": {
    "collapsed": false
   },
   "outputs": [
    {
     "data": {
      "text/plain": [
       "generator"
      ]
     },
     "execution_count": 49,
     "metadata": {},
     "output_type": "execute_result"
    }
   ],
   "source": [
    "submissions2\n",
    "type(submissions2)"
   ]
  },
  {
   "cell_type": "code",
   "execution_count": 55,
   "metadata": {
    "collapsed": false
   },
   "outputs": [
    {
     "name": "stdout",
     "output_type": "stream",
     "text": [
      "The polite users were :\n",
      "AutoModerator\n",
      "AutoModerator\n",
      "xgenoriginal\n",
      "LadySinister\n",
      "AutoModerator\n",
      "MadLintElf\n",
      "ReturningBengalurean\n",
      "ScottSierra\n"
     ]
    }
   ],
   "source": [
    "import praw\n",
    "import time\n",
    "\n",
    "r = praw.Reddit('Simple comment parser from WhyCouch')\n",
    "\n",
    "polite_users = set()\n",
    "\n",
    "for i in xrange(0, 10):\n",
    "    comments = r.get_comments('askreddit')\n",
    "    for comment in comments:\n",
    "        body = comment.body.lower()\n",
    "        if body.find(\"thank\") != -1 or body.find(\"please\") != -1:\n",
    "            polite_users.add(comment.author)\n",
    "    time.sleep(120)\n",
    "\n",
    "print \"The polite users were :\"\n",
    "for user in polite_users:\n",
    "    print user"
   ]
  },
  {
   "cell_type": "code",
   "execution_count": 64,
   "metadata": {
    "collapsed": false
   },
   "outputs": [],
   "source": [
    "user_agent = \"First PRAW experiment 06112015 by /u/PopularCactus\"\n",
    "r = praw.Reddit(user_agent = user_agent)\n",
    "\n",
    "comments = r.get_comments('relationships', limit = 10)"
   ]
  },
  {
   "cell_type": "code",
   "execution_count": 60,
   "metadata": {
    "collapsed": false
   },
   "outputs": [
    {
     "name": "stdout",
     "output_type": "stream",
     "text": [
      "<generator object get_content at 0x1078fc1e0>\n"
     ]
    }
   ],
   "source": [
    "pprint(comments)"
   ]
  },
  {
   "cell_type": "code",
   "execution_count": 65,
   "metadata": {
    "collapsed": false
   },
   "outputs": [
    {
     "data": {
      "text/plain": [
       "['Um... Is your father more reasonable than your mother? ',\n",
       " 'More importantly, you let them go, when they become adults.  She needs to rea...',\n",
       " \"It's most likely that he was living with his parents and was self-conscious a...\",\n",
       " 'Jesus, the PPD would probably kill her.\\n\\nHave the baby you always wanted, \"wi...',\n",
       " \"That isn't normal at all, and things like that tend to escalate with time. I'...\",\n",
       " 'Its turning my stomach how his wife shows up crying, finds out info on OP(thi...',\n",
       " \"Yeah, but it's usually a no 4 times out of 5.  It gets a bit disheartening be...\",\n",
       " \"I'm sorry that you are about to make and emotionally devastating choice based...\",\n",
       " 'OP I live in Maryland as well. If you need help with any of this process PM, ...',\n",
       " \"I'm not upset about watching them. I'm upset that I was given no notice that ...\"]"
      ]
     },
     "execution_count": 65,
     "metadata": {},
     "output_type": "execute_result"
    }
   ],
   "source": [
    "[str(x) for x in comments]"
   ]
  },
  {
   "cell_type": "code",
   "execution_count": 74,
   "metadata": {
    "collapsed": false
   },
   "outputs": [
    {
     "name": "stdout",
     "output_type": "stream",
     "text": [
      "{'_api_link': u'https://api.reddit.com/r/relationships/comments/3rps80/update_i_23m_caught_my_coworker_33m_coming_out_of/',\n",
      " '_comment_sort': None,\n",
      " '_comments': [<praw.objects.Comment object at 0x10773ae50>,\n",
      "               <praw.objects.Comment object at 0x10790bb90>,\n",
      "               <praw.objects.Comment object at 0x1076e5050>,\n",
      "               <praw.objects.Comment object at 0x1076e5290>,\n",
      "               <praw.objects.Comment object at 0x1076e5410>,\n",
      "               <praw.objects.Comment object at 0x1076e5590>,\n",
      "               <praw.objects.Comment object at 0x1076e5650>,\n",
      "               <praw.objects.Comment object at 0x1076e5710>,\n",
      "               <praw.objects.Comment object at 0x1076e57d0>,\n",
      "               <praw.objects.Comment object at 0x1076e5ad0>,\n",
      "               <praw.objects.Comment object at 0x1076e5b90>,\n",
      "               <praw.objects.Comment object at 0x1074e1150>,\n",
      "               <praw.objects.Comment object at 0x1074e1210>,\n",
      "               <praw.objects.Comment object at 0x1074e12d0>,\n",
      "               <praw.objects.Comment object at 0x1074e1390>,\n",
      "               <praw.objects.Comment object at 0x1074e1450>,\n",
      "               <praw.objects.Comment object at 0x1074e1550>,\n",
      "               <praw.objects.Comment object at 0x1074e1610>,\n",
      "               <praw.objects.Comment object at 0x1074e16d0>,\n",
      "               <praw.objects.Comment object at 0x1074e1790>,\n",
      "               <praw.objects.Comment object at 0x1074e1850>,\n",
      "               <praw.objects.Comment object at 0x1074e1910>,\n",
      "               <praw.objects.Comment object at 0x1074e19d0>,\n",
      "               <praw.objects.Comment object at 0x1074e1e50>,\n",
      "               <praw.objects.Comment object at 0x1074e1f10>,\n",
      "               <praw.objects.Comment object at 0x1074e1fd0>,\n",
      "               <praw.objects.Comment object at 0x1074c50d0>,\n",
      "               <praw.objects.Comment object at 0x1074c5190>,\n",
      "               <praw.objects.Comment object at 0x1074c5290>,\n",
      "               <praw.objects.Comment object at 0x1074c5350>,\n",
      "               <praw.objects.Comment object at 0x1074c5410>,\n",
      "               <praw.objects.Comment object at 0x1074c5650>,\n",
      "               <praw.objects.Comment object at 0x1074c5710>,\n",
      "               <praw.objects.Comment object at 0x1074c57d0>,\n",
      "               <praw.objects.Comment object at 0x1074c5c50>,\n",
      "               <praw.objects.Comment object at 0x1074c5d10>,\n",
      "               <praw.objects.Comment object at 0x1074c5dd0>,\n",
      "               <praw.objects.Comment object at 0x1074c5e90>,\n",
      "               <praw.objects.Comment object at 0x1074c5f50>,\n",
      "               <praw.objects.Comment object at 0x1074f7050>,\n",
      "               <praw.objects.Comment object at 0x1074f7110>,\n",
      "               <praw.objects.Comment object at 0x1074f71d0>,\n",
      "               <praw.objects.Comment object at 0x1074f7290>,\n",
      "               <praw.objects.Comment object at 0x1074f7350>,\n",
      "               <praw.objects.Comment object at 0x1074f7410>,\n",
      "               <praw.objects.Comment object at 0x1074f74d0>,\n",
      "               <praw.objects.Comment object at 0x1074f7590>,\n",
      "               <praw.objects.Comment object at 0x1074f7650>,\n",
      "               <praw.objects.Comment object at 0x1074f7710>,\n",
      "               <praw.objects.Comment object at 0x1074f77d0>,\n",
      "               <praw.objects.Comment object at 0x1074f7890>,\n",
      "               <praw.objects.Comment object at 0x1074f7950>,\n",
      "               <praw.objects.Comment object at 0x1074f7a10>,\n",
      "               <praw.objects.Comment object at 0x1074f7ad0>,\n",
      "               <praw.objects.Comment object at 0x1074f7b90>,\n",
      "               <praw.objects.Comment object at 0x1074f7c90>,\n",
      "               <praw.objects.Comment object at 0x1074f7d50>,\n",
      "               <praw.objects.Comment object at 0x1074f7e10>,\n",
      "               <praw.objects.Comment object at 0x1074f7ed0>,\n",
      "               <praw.objects.Comment object at 0x1074f7f90>,\n",
      "               <praw.objects.Comment object at 0x1078d60d0>,\n",
      "               <praw.objects.Comment object at 0x1078d6190>,\n",
      "               <praw.objects.Comment object at 0x1078d6250>,\n",
      "               <praw.objects.Comment object at 0x1078d6310>,\n",
      "               <praw.objects.Comment object at 0x1078d63d0>,\n",
      "               <praw.objects.Comment object at 0x1078d6490>,\n",
      "               <praw.objects.Comment object at 0x1078d6550>,\n",
      "               <praw.objects.Comment object at 0x1078d6610>,\n",
      "               <praw.objects.Comment object at 0x1078d66d0>,\n",
      "               <praw.objects.Comment object at 0x1078d6790>,\n",
      "               <praw.objects.Comment object at 0x1078d6910>,\n",
      "               <praw.objects.Comment object at 0x1078d6b10>],\n",
      " '_comments_by_id': {u't1_cwq8ko8': <praw.objects.Comment object at 0x10773ae50>,\n",
      "                     u't1_cwq8o28': <praw.objects.Comment object at 0x10773ad10>,\n",
      "                     u't1_cwq8oru': <praw.objects.Comment object at 0x1076e5710>,\n",
      "                     u't1_cwq8sic': <praw.objects.Comment object at 0x10773a690>,\n",
      "                     u't1_cwq8tds': <praw.objects.Comment object at 0x1076e5410>,\n",
      "                     u't1_cwq8wsu': <praw.objects.Comment object at 0x10773a410>,\n",
      "                     u't1_cwq8y6f': <praw.objects.Comment object at 0x10773a850>,\n",
      "                     u't1_cwq8znh': <praw.objects.Comment object at 0x1076e5350>,\n",
      "                     u't1_cwq961g': <praw.objects.Comment object at 0x10773a810>,\n",
      "                     u't1_cwq99ms': <praw.objects.Comment object at 0x10773a290>,\n",
      "                     u't1_cwq9afs': <praw.objects.Comment object at 0x1074e1150>,\n",
      "                     u't1_cwq9ept': <praw.objects.Comment object at 0x10773a550>,\n",
      "                     u't1_cwq9g2u': <praw.objects.Comment object at 0x10773a350>,\n",
      "                     u't1_cwqa5na': <praw.objects.Comment object at 0x1074e1210>,\n",
      "                     u't1_cwqaann': <praw.objects.Comment object at 0x1076e5050>,\n",
      "                     u't1_cwqahk3': <praw.objects.Comment object at 0x10790bb90>,\n",
      "                     u't1_cwqakmu': <praw.objects.Comment object at 0x1076f6410>,\n",
      "                     u't1_cwqar46': <praw.objects.Comment object at 0x107416250>,\n",
      "                     u't1_cwqard9': <praw.objects.Comment object at 0x1076f6c50>,\n",
      "                     u't1_cwqb0dq': <praw.objects.Comment object at 0x1076e57d0>,\n",
      "                     u't1_cwqb1o0': <praw.objects.Comment object at 0x1074c5d10>,\n",
      "                     u't1_cwqb6c0': <praw.objects.Comment object at 0x1074e1090>,\n",
      "                     u't1_cwqbbb7': <praw.objects.Comment object at 0x1074e1850>,\n",
      "                     u't1_cwqbbez': <praw.objects.Comment object at 0x1078d6610>,\n",
      "                     u't1_cwqboj0': <praw.objects.Comment object at 0x1074e12d0>,\n",
      "                     u't1_cwqbu4o': <praw.objects.Comment object at 0x1076f6ad0>,\n",
      "                     u't1_cwqc00c': <praw.objects.Comment object at 0x1076ecb90>,\n",
      "                     u't1_cwqc0md': <praw.objects.Comment object at 0x1074e1610>,\n",
      "                     u't1_cwqc150': <praw.objects.Comment object at 0x1078d6550>,\n",
      "                     u't1_cwqc41r': <praw.objects.Comment object at 0x1074e1f10>,\n",
      "                     u't1_cwqc5a4': <praw.objects.Comment object at 0x1076e5590>,\n",
      "                     u't1_cwqc7tp': <praw.objects.Comment object at 0x1078d6b10>,\n",
      "                     u't1_cwqc7vl': <praw.objects.Comment object at 0x107416990>,\n",
      "                     u't1_cwqca90': <praw.objects.Comment object at 0x1076e5290>,\n",
      "                     u't1_cwqcc7l': <praw.objects.Comment object at 0x1076f6890>,\n",
      "                     u't1_cwqcdlv': <praw.objects.Comment object at 0x1074e1fd0>,\n",
      "                     u't1_cwqcdvy': <praw.objects.Comment object at 0x1074e1e50>,\n",
      "                     u't1_cwqceua': <praw.objects.Comment object at 0x1074c50d0>,\n",
      "                     u't1_cwqcnot': <praw.objects.Comment object at 0x1076ece90>,\n",
      "                     u't1_cwqcop9': <praw.objects.Comment object at 0x1078d6a50>,\n",
      "                     u't1_cwqcp8y': <praw.objects.Comment object at 0x1076e54d0>,\n",
      "                     u't1_cwqcq3l': <praw.objects.Comment object at 0x1074e1d90>,\n",
      "                     u't1_cwqcrly': <praw.objects.Comment object at 0x1076ecad0>,\n",
      "                     u't1_cwqct9t': <praw.objects.Comment object at 0x10773a490>,\n",
      "                     u't1_cwqcu35': <praw.objects.Comment object at 0x10773aa50>,\n",
      "                     u't1_cwqczi5': <praw.objects.Comment object at 0x1076f6110>,\n",
      "                     u't1_cwqd03a': <praw.objects.Comment object at 0x1076eca10>,\n",
      "                     u't1_cwqd30c': <praw.objects.Comment object at 0x1074c5dd0>,\n",
      "                     u't1_cwqd415': <praw.objects.Comment object at 0x1076ec7d0>,\n",
      "                     u't1_cwqd4bc': <praw.objects.Comment object at 0x10790ba10>,\n",
      "                     u't1_cwqd4ij': <praw.objects.Comment object at 0x1074e16d0>,\n",
      "                     u't1_cwqd54f': <praw.objects.Comment object at 0x1074c5e90>,\n",
      "                     u't1_cwqd5gr': <praw.objects.Comment object at 0x1076f67d0>,\n",
      "                     u't1_cwqd6rw': <praw.objects.Comment object at 0x1074c5190>,\n",
      "                     u't1_cwqd9dv': <praw.objects.Comment object at 0x1076ec4d0>,\n",
      "                     u't1_cwqdacl': <praw.objects.Comment object at 0x1076f6e90>,\n",
      "                     u't1_cwqdb63': <praw.objects.Comment object at 0x1076e5650>,\n",
      "                     u't1_cwqdcl2': <praw.objects.Comment object at 0x1074e1450>,\n",
      "                     u't1_cwqdcue': <praw.objects.Comment object at 0x107416290>,\n",
      "                     u't1_cwqdey6': <praw.objects.Comment object at 0x1076e5b90>,\n",
      "                     u't1_cwqdf7l': <praw.objects.Comment object at 0x1076ec050>,\n",
      "                     u't1_cwqdge2': <praw.objects.Comment object at 0x1076ec410>,\n",
      "                     u't1_cwqdgu1': <praw.objects.Comment object at 0x1076e5f90>,\n",
      "                     u't1_cwqdhlz': <praw.objects.Comment object at 0x10773ab50>,\n",
      "                     u't1_cwqdim9': <praw.objects.Comment object at 0x1076f6dd0>,\n",
      "                     u't1_cwqdjco': <praw.objects.Comment object at 0x1074c5f50>,\n",
      "                     u't1_cwqdjoa': <praw.objects.Comment object at 0x1074e1390>,\n",
      "                     u't1_cwqdna4': <praw.objects.Comment object at 0x1076f6050>,\n",
      "                     u't1_cwqdnsr': <praw.objects.Comment object at 0x1076f6350>,\n",
      "                     u't1_cwqdogo': <praw.objects.Comment object at 0x1076ec890>,\n",
      "                     u't1_cwqdqh8': <praw.objects.Comment object at 0x1076ec350>,\n",
      "                     u't1_cwqdrdo': <praw.objects.Comment object at 0x1076f6710>,\n",
      "                     u't1_cwqds5d': <praw.objects.Comment object at 0x1076e5ad0>,\n",
      "                     u't1_cwqdsga': <praw.objects.Comment object at 0x1076ec290>,\n",
      "                     u't1_cwqdum0': <praw.objects.Comment object at 0x1076f6d10>,\n",
      "                     u't1_cwqdxni': <praw.objects.Comment object at 0x1074e1550>,\n",
      "                     u't1_cwqe3l5': <praw.objects.Comment object at 0x1074c5290>,\n",
      "                     u't1_cwqe8bi': <praw.objects.Comment object at 0x1076ec1d0>,\n",
      "                     u't1_cwqe9z5': <praw.objects.Comment object at 0x1076e5ed0>,\n",
      "                     u't1_cwqea39': <praw.objects.Comment object at 0x10790bc50>,\n",
      "                     u't1_cwqebfx': <praw.objects.Comment object at 0x10790bd10>,\n",
      "                     u't1_cwqee1i': <praw.objects.Comment object at 0x1074c57d0>,\n",
      "                     u't1_cwqeexq': <praw.objects.Comment object at 0x1076f61d0>,\n",
      "                     u't1_cwqen5i': <praw.objects.Comment object at 0x1074165d0>,\n",
      "                     u't1_cwqeos3': <praw.objects.Comment object at 0x10790b890>,\n",
      "                     u't1_cwqepvh': <praw.objects.Comment object at 0x107867650>,\n",
      "                     u't1_cwqer0c': <praw.objects.Comment object at 0x1076f6b90>,\n",
      "                     u't1_cwqeruj': <praw.objects.Comment object at 0x1076e5c50>,\n",
      "                     u't1_cwqeume': <praw.objects.Comment object at 0x1074e1b50>,\n",
      "                     u't1_cwqeuoe': <praw.objects.Comment object at 0x1074e1cd0>,\n",
      "                     u't1_cwqf12q': <praw.objects.Comment object at 0x107867d10>,\n",
      "                     u't1_cwqf1p6': <praw.objects.Comment object at 0x1074e1790>,\n",
      "                     u't1_cwqf1um': <praw.objects.Comment object at 0x1078d6990>,\n",
      "                     u't1_cwqf2pw': <praw.objects.Comment object at 0x1074c5c50>,\n",
      "                     u't1_cwqf5tg': <praw.objects.Comment object at 0x1078676d0>,\n",
      "                     u't1_cwqf5ub': <praw.objects.Comment object at 0x1076f6290>,\n",
      "                     u't1_cwqf72x': <praw.objects.Comment object at 0x1074e1a90>,\n",
      "                     u't1_cwqfcqi': <praw.objects.Comment object at 0x1076e5e10>,\n",
      "                     u't1_cwqfh1z': <praw.objects.Comment object at 0x10790b110>,\n",
      "                     u't1_cwqfhp4': <praw.objects.Comment object at 0x10790b7d0>,\n",
      "                     u't1_cwqfifd': <praw.objects.Comment object at 0x1074c5350>,\n",
      "                     u't1_cwqfjgo': <praw.objects.Comment object at 0x1076e51d0>,\n",
      "                     u't1_cwqfk39': <praw.objects.Comment object at 0x1076f6590>,\n",
      "                     u't1_cwqflyh': <praw.objects.Comment object at 0x1076d8a90>,\n",
      "                     u't1_cwqfmmz': <praw.objects.Comment object at 0x107867490>,\n",
      "                     u't1_cwqfpfi': <praw.objects.Comment object at 0x107867410>,\n",
      "                     u't1_cwqfpgd': <praw.objects.Comment object at 0x1076f6950>,\n",
      "                     u't1_cwqfrx9': <praw.objects.Comment object at 0x1074f7050>,\n",
      "                     u't1_cwqfyh7': <praw.objects.Comment object at 0x1074c5b90>,\n",
      "                     u't1_cwqfz5u': <praw.objects.Comment object at 0x107416750>,\n",
      "                     u't1_cwqfzz5': <praw.objects.Comment object at 0x10773aad0>,\n",
      "                     u't1_cwqg65g': <praw.objects.Comment object at 0x1074f7110>,\n",
      "                     u't1_cwqg8fe': <praw.objects.Comment object at 0x1074f71d0>,\n",
      "                     u't1_cwqgf3d': <praw.objects.Comment object at 0x1074f7290>,\n",
      "                     u't1_cwqgm3f': <praw.objects.Comment object at 0x1078d66d0>,\n",
      "                     u't1_cwqgmfx': <praw.objects.Comment object at 0x1076e5890>,\n",
      "                     u't1_cwqh19x': <praw.objects.Comment object at 0x1076e5110>,\n",
      "                     u't1_cwqh42x': <praw.objects.Comment object at 0x1074e1910>,\n",
      "                     u't1_cwqh4oa': <praw.objects.Comment object at 0x1074f7350>,\n",
      "                     u't1_cwqh4vi': <praw.objects.Comment object at 0x1076e5950>,\n",
      "                     u't1_cwqh6wt': <praw.objects.Comment object at 0x10790b4d0>,\n",
      "                     u't1_cwqh8bf': <praw.objects.Comment object at 0x1076ec950>,\n",
      "                     u't1_cwqh8e5': <praw.objects.Comment object at 0x1074c5410>,\n",
      "                     u't1_cwqh9as': <praw.objects.Comment object at 0x1076e5a10>,\n",
      "                     u't1_cwqhkp3': <praw.objects.Comment object at 0x1074f7410>,\n",
      "                     u't1_cwqhpnd': <praw.objects.Comment object at 0x1076f64d0>,\n",
      "                     u't1_cwqhza5': <praw.objects.Comment object at 0x1074f74d0>,\n",
      "                     u't1_cwqi033': <praw.objects.Comment object at 0x1076d89d0>,\n",
      "                     u't1_cwqi1xp': <praw.objects.Comment object at 0x1076e5d50>,\n",
      "                     u't1_cwqi6r6': <praw.objects.Comment object at 0x10790b710>,\n",
      "                     u't1_cwqia9d': <praw.objects.Comment object at 0x10790b410>,\n",
      "                     u't1_cwqib7j': <praw.objects.Comment object at 0x1076ec710>,\n",
      "                     u't1_cwqibno': <praw.objects.Comment object at 0x1074f7590>,\n",
      "                     u't1_cwqidcl': <praw.objects.Comment object at 0x1074f7650>,\n",
      "                     u't1_cwqiplc': <praw.objects.Comment object at 0x1074f7710>,\n",
      "                     u't1_cwqishy': <praw.objects.Comment object at 0x1074c5ad0>,\n",
      "                     u't1_cwqitq4': <praw.objects.Comment object at 0x1076ecd10>,\n",
      "                     u't1_cwqiui3': <praw.objects.Comment object at 0x10790b350>,\n",
      "                     u't1_cwqivbs': <praw.objects.Comment object at 0x1074f77d0>,\n",
      "                     u't1_cwqj0cw': <praw.objects.Comment object at 0x1074c5650>,\n",
      "                     u't1_cwqj0vj': <praw.objects.Comment object at 0x1074e1c10>,\n",
      "                     u't1_cwqj1o2': <praw.objects.Comment object at 0x1074c5a10>,\n",
      "                     u't1_cwqj1oh': <praw.objects.Comment object at 0x1076ecc50>,\n",
      "                     u't1_cwqj2yv': <praw.objects.Comment object at 0x1074f7890>,\n",
      "                     u't1_cwqj3ac': <praw.objects.Comment object at 0x1074c5890>,\n",
      "                     u't1_cwqj6fy': <praw.objects.Comment object at 0x1074f7950>,\n",
      "                     u't1_cwqj6ms': <praw.objects.Comment object at 0x1074c5950>,\n",
      "                     u't1_cwqj6oa': <praw.objects.Comment object at 0x1076f6650>,\n",
      "                     u't1_cwqj96a': <praw.objects.Comment object at 0x1076ec110>,\n",
      "                     u't1_cwqjd01': <praw.objects.Comment object at 0x1076d8f90>,\n",
      "                     u't1_cwqjd9e': <praw.objects.Comment object at 0x10790b650>,\n",
      "                     u't1_cwqjg5g': <praw.objects.Comment object at 0x1076f6f50>,\n",
      "                     u't1_cwqjixz': <praw.objects.Comment object at 0x1074f7a10>,\n",
      "                     u't1_cwqjkrg': <praw.objects.Comment object at 0x1074c5710>,\n",
      "                     u't1_cwqjp2d': <praw.objects.Comment object at 0x1074e19d0>,\n",
      "                     u't1_cwqjpyf': <praw.objects.Comment object at 0x10790bf50>,\n",
      "                     u't1_cwqjsh8': <praw.objects.Comment object at 0x1074c5590>,\n",
      "                     u't1_cwqjsj0': <praw.objects.Comment object at 0x1078d6790>,\n",
      "                     u't1_cwqjtce': <praw.objects.Comment object at 0x1074f7ad0>,\n",
      "                     u't1_cwqju24': <praw.objects.Comment object at 0x10773a3d0>,\n",
      "                     u't1_cwqjyso': <praw.objects.Comment object at 0x1074f7b90>,\n",
      "                     u't1_cwqk0pw': <praw.objects.Comment object at 0x1074f7c90>,\n",
      "                     u't1_cwqk16i': <praw.objects.Comment object at 0x1074f7d50>,\n",
      "                     u't1_cwqk4ah': <praw.objects.Comment object at 0x10790bdd0>,\n",
      "                     u't1_cwqk86s': <praw.objects.Comment object at 0x1074f7e10>,\n",
      "                     u't1_cwqk9ja': <praw.objects.Comment object at 0x1074f7ed0>,\n",
      "                     u't1_cwqkawb': <praw.objects.Comment object at 0x1076ec650>,\n",
      "                     u't1_cwqkch0': <praw.objects.Comment object at 0x1074f7f90>,\n",
      "                     u't1_cwqkg82': <praw.objects.Comment object at 0x1076ecf50>,\n",
      "                     u't1_cwqkkdk': <praw.objects.Comment object at 0x10790b1d0>,\n",
      "                     u't1_cwqkqwg': <praw.objects.Comment object at 0x1078d60d0>,\n",
      "                     u't1_cwqks99': <praw.objects.Comment object at 0x1074c54d0>,\n",
      "                     u't1_cwqkz63': <praw.objects.Comment object at 0x1078d6190>,\n",
      "                     u't1_cwql2jw': <praw.objects.Comment object at 0x1078d6250>,\n",
      "                     u't1_cwql5kh': <praw.objects.Comment object at 0x10790be90>,\n",
      "                     u't1_cwql5rf': <praw.objects.Comment object at 0x1078d6310>,\n",
      "                     u't1_cwql5zm': <praw.objects.Comment object at 0x10790b590>,\n",
      "                     u't1_cwql79h': <praw.objects.Comment object at 0x1076f6a10>,\n",
      "                     u't1_cwql9lm': <praw.objects.Comment object at 0x10773a750>,\n",
      "                     u't1_cwqlfdt': <praw.objects.Comment object at 0x1078d63d0>,\n",
      "                     u't1_cwqlg0b': <praw.objects.Comment object at 0x1076ec590>,\n",
      "                     u't1_cwqlktv': <praw.objects.Comment object at 0x10773af50>,\n",
      "                     u't1_cwqlmca': <praw.objects.Comment object at 0x10790b050>,\n",
      "                     u't1_cwqln48': <praw.objects.Comment object at 0x10790b950>,\n",
      "                     u't1_cwqlnqd': <praw.objects.Comment object at 0x10790bad0>,\n",
      "                     u't1_cwqlp74': <praw.objects.Comment object at 0x1078d6910>,\n",
      "                     u't1_cwqlzh6': <praw.objects.Comment object at 0x1078d6490>,\n",
      "                     u't1_cwqm169': <praw.objects.Comment object at 0x1078d6850>,\n",
      "                     u't1_cwqm16r': <praw.objects.Comment object at 0x1076ecdd0>,\n",
      "                     u't1_cwqm4e5': <praw.objects.Comment object at 0x10773ad50>},\n",
      " '_has_fetched': True,\n",
      " '_info_url': u'https://api.reddit.com/api/info/',\n",
      " '_orphaned': {},\n",
      " '_params': {},\n",
      " '_replaced_more': False,\n",
      " '_underscore_names': None,\n",
      " '_uniq': None,\n",
      " 'approved_by': None,\n",
      " 'archived': False,\n",
      " 'author': Redditor(user_name='feelingsick12'),\n",
      " 'author_flair_css_class': None,\n",
      " 'author_flair_text': None,\n",
      " 'banned_by': None,\n",
      " 'clicked': False,\n",
      " 'created': 1446807744.0,\n",
      " 'created_utc': 1446778944.0,\n",
      " 'distinguished': None,\n",
      " 'domain': u'self.relationships',\n",
      " 'downs': 0,\n",
      " 'edited': False,\n",
      " 'from': None,\n",
      " 'from_id': None,\n",
      " 'from_kind': None,\n",
      " 'gilded': 0,\n",
      " 'hidden': False,\n",
      " 'hide_score': False,\n",
      " 'id': u'3rps80',\n",
      " 'is_self': True,\n",
      " 'json_dict': None,\n",
      " 'likes': None,\n",
      " 'link_flair_css_class': u'm-it updates',\n",
      " 'link_flair_text': u'Updates',\n",
      " 'locked': False,\n",
      " 'media': None,\n",
      " 'media_embed': {},\n",
      " 'mod_reports': [],\n",
      " 'name': u't3_3rps80',\n",
      " 'num_comments': 201,\n",
      " 'num_reports': None,\n",
      " 'over_18': False,\n",
      " 'permalink': u'https://www.reddit.com/r/relationships/comments/3rps80/update_i_23m_caught_my_coworker_33m_coming_out_of/',\n",
      " 'quarantine': False,\n",
      " 'reddit_session': <praw.Reddit object at 0x107860950>,\n",
      " 'removal_reason': None,\n",
      " 'report_reasons': None,\n",
      " 'saved': False,\n",
      " 'score': 1949,\n",
      " 'secure_media': None,\n",
      " 'secure_media_embed': {},\n",
      " 'selftext': u'Original post: https://www.reddit.com/r/relationships/comments/3kyl2m/i_23m_caught_my_coworker_33m_coming_out_of_the/?\\n\\nHey reddit. Thought I\\'d update you guys on the crazy train that is Earl.\\n\\nSo, about a month ago I saw Earl, my PTSD ridden coworker, sneaking out of the women\\'s bathroom. Later we got a nastygram from office management demanding to know who soiled the women\\'s bathroom-- here was not only a mess in the middle of the floor but the feces was smeared all over the walls, with a \\'Hi Larry\\' (our office manager) written in fecal matter on the mirrors followed by a \\'Fuck Suzanne\\' written on another. Suzanne is the manager that works on the isolated floor and one of the few females on the floor.\\n\\nSo...long story short, I ended up giving my buddy that works in security a heads up that I saw Earl sneaking out of the women\\'s bathroom. Suzanne found a...\\'handprint\\' on her car door handle that day too. Security checked the tapes but of course they didn\\'t catch shit (some of the cameras were out). Earl wasn\\'t questioned right away, and for the most part, people forgot about the incident (except Suzanne).\\n\\nThe other day, Suzanne came to work and found a huge dump right in the middle of her cubicle. Several of her things had been \"touched\" or knocked over. She immediately lost it, and ran straight to security. Fortunately, since the incident, cameras that were on her floor were now running...and lo and behold....Earl was on her floor at 5:30am. Earl\\'s punch in time is usually 8:15. He was questioned and he had no viable reason for why he was there that early in the morning, and on Suzanne\\'s floor. A search of Earl\\'s locker uncovered soiled rags and a filthy t-shirt.\\n\\nEarl has been moved to an offsite pending an HR investigation. We\\'re all guessing he\\'s going to be canned. In the mean time, should he come to the office while I\\'m there, I\\'m running out the emergency exit. (I\\'m convinced he knows).\\n   \\n**tl;dr**: Earl was caught \"red\" handed. He is now the subject of an HR investigation and has been moved to an offsite far away from the general work population.',\n",
      " 'selftext_html': u'<!-- SC_OFF --><div class=\"md\"><p>Original post: <a href=\"https://www.reddit.com/r/relationships/comments/3kyl2m/i_23m_caught_my_coworker_33m_coming_out_of_the/\">https://www.reddit.com/r/relationships/comments/3kyl2m/i_23m_caught_my_coworker_33m_coming_out_of_the/</a>?</p>\\n\\n<p>Hey reddit. Thought I&#39;d update you guys on the crazy train that is Earl.</p>\\n\\n<p>So, about a month ago I saw Earl, my PTSD ridden coworker, sneaking out of the women&#39;s bathroom. Later we got a nastygram from office management demanding to know who soiled the women&#39;s bathroom-- here was not only a mess in the middle of the floor but the feces was smeared all over the walls, with a &#39;Hi Larry&#39; (our office manager) written in fecal matter on the mirrors followed by a &#39;Fuck Suzanne&#39; written on another. Suzanne is the manager that works on the isolated floor and one of the few females on the floor.</p>\\n\\n<p>So...long story short, I ended up giving my buddy that works in security a heads up that I saw Earl sneaking out of the women&#39;s bathroom. Suzanne found a...&#39;handprint&#39; on her car door handle that day too. Security checked the tapes but of course they didn&#39;t catch shit (some of the cameras were out). Earl wasn&#39;t questioned right away, and for the most part, people forgot about the incident (except Suzanne).</p>\\n\\n<p>The other day, Suzanne came to work and found a huge dump right in the middle of her cubicle. Several of her things had been &quot;touched&quot; or knocked over. She immediately lost it, and ran straight to security. Fortunately, since the incident, cameras that were on her floor were now running...and lo and behold....Earl was on her floor at 5:30am. Earl&#39;s punch in time is usually 8:15. He was questioned and he had no viable reason for why he was there that early in the morning, and on Suzanne&#39;s floor. A search of Earl&#39;s locker uncovered soiled rags and a filthy t-shirt.</p>\\n\\n<p>Earl has been moved to an offsite pending an HR investigation. We&#39;re all guessing he&#39;s going to be canned. In the mean time, should he come to the office while I&#39;m there, I&#39;m running out the emergency exit. (I&#39;m convinced he knows).</p>\\n\\n<p><strong>tl;dr</strong>: Earl was caught &quot;red&quot; handed. He is now the subject of an HR investigation and has been moved to an offsite far away from the general work population.</p>\\n</div><!-- SC_ON -->',\n",
      " 'stickied': False,\n",
      " 'subreddit': Subreddit(subreddit_name='relationships'),\n",
      " 'subreddit_id': u't5_2qjvn',\n",
      " 'suggested_sort': None,\n",
      " 'thumbnail': u'',\n",
      " 'title': u\"UPDATE: I (23M) caught my coworker (33M) coming out of the women's bathroom at work. Later we got an all office e-mail demanding to know who soiled the women's bathroom at work.\",\n",
      " 'ups': 1949,\n",
      " 'upvote_ratio': 0.91,\n",
      " 'url': u'https://www.reddit.com/r/relationships/comments/3rps80/update_i_23m_caught_my_coworker_33m_coming_out_of/',\n",
      " 'user_reports': [],\n",
      " 'visited': False}\n"
     ]
    }
   ],
   "source": [
    "r = praw.Reddit('Submission variables testing by /u/PopularCactus')\n",
    "submission = r.get_submission(submission_id = \"3rps80\")\n",
    "pprint(vars(submission))"
   ]
  },
  {
   "cell_type": "code",
   "execution_count": 75,
   "metadata": {
    "collapsed": false
   },
   "outputs": [
    {
     "data": {
      "text/plain": [
       "u'Updates'"
      ]
     },
     "execution_count": 75,
     "metadata": {},
     "output_type": "execute_result"
    }
   ],
   "source": [
    "vars(submission)['link_flair_text']"
   ]
  },
  {
   "cell_type": "code",
   "execution_count": 76,
   "metadata": {
    "collapsed": false
   },
   "outputs": [
    {
     "data": {
      "text/plain": [
       "1949"
      ]
     },
     "execution_count": 76,
     "metadata": {},
     "output_type": "execute_result"
    }
   ],
   "source": [
    "vars(submission)['ups']"
   ]
  },
  {
   "cell_type": "code",
   "execution_count": 102,
   "metadata": {
    "collapsed": false
   },
   "outputs": [
    {
     "data": {
      "text/plain": [
       "{'_case_name': 'relationships',\n",
       " '_has_fetched': False,\n",
       " '_info_url': u'https://api.reddit.com/r/relationships/about/',\n",
       " '_listing_urls': [u'https://api.reddit.com/r/relationships/new/.json',\n",
       "  u'https://api.reddit.com/r/relationships/.json',\n",
       "  u'https://api.reddit.com/r/relationships/top/.json',\n",
       "  u'https://api.reddit.com/r/relationships/controversial/.json',\n",
       "  u'https://api.reddit.com/r/relationships/rising/.json'],\n",
       " '_underscore_names': None,\n",
       " '_uniq': None,\n",
       " '_url': u'https://api.reddit.com/r/relationships/',\n",
       " 'display_name': 'relationships',\n",
       " 'json_dict': None,\n",
       " 'reddit_session': <praw.Reddit at 0x107860950>}"
      ]
     },
     "execution_count": 102,
     "metadata": {},
     "output_type": "execute_result"
    }
   ],
   "source": [
    "submissions = r.get_subreddit('relationships')\n",
    "vars(submissions)"
   ]
  },
  {
   "cell_type": "code",
   "execution_count": 97,
   "metadata": {
    "collapsed": false
   },
   "outputs": [
    {
     "name": "stdout",
     "output_type": "stream",
     "text": [
      "{'_api_link': u'https://api.reddit.com/r/relationships/comments/3rn5f6/is_what_i_f27am_doing_to_my_father_m53_really/',\n",
      " '_comment_sort': None,\n",
      " '_comments': None,\n",
      " '_comments_by_id': {},\n",
      " '_has_fetched': True,\n",
      " '_info_url': u'https://api.reddit.com/api/info/',\n",
      " '_orphaned': {},\n",
      " '_params': {},\n",
      " '_replaced_more': False,\n",
      " '_underscore_names': None,\n",
      " '_uniq': None,\n",
      " 'approved_by': None,\n",
      " 'archived': False,\n",
      " 'author': Redditor(user_name='melaninline'),\n",
      " 'author_flair_css_class': None,\n",
      " 'author_flair_text': None,\n",
      " 'banned_by': None,\n",
      " 'clicked': False,\n",
      " 'created': 1446768667.0,\n",
      " 'created_utc': 1446739867.0,\n",
      " 'distinguished': None,\n",
      " 'domain': u'self.relationships',\n",
      " 'downs': 0,\n",
      " 'edited': 1446819014.0,\n",
      " 'from': None,\n",
      " 'from_id': None,\n",
      " 'from_kind': None,\n",
      " 'gilded': 0,\n",
      " 'hidden': False,\n",
      " 'hide_score': False,\n",
      " 'id': u'3rn5f6',\n",
      " 'is_self': True,\n",
      " 'json_dict': None,\n",
      " 'likes': None,\n",
      " 'link_flair_css_class': u'm-gn misc',\n",
      " 'link_flair_text': u'Non-Romantic',\n",
      " 'locked': False,\n",
      " 'media': None,\n",
      " 'media_embed': {},\n",
      " 'mod_reports': [],\n",
      " 'name': u't3_3rn5f6',\n",
      " 'num_comments': 239,\n",
      " 'num_reports': None,\n",
      " 'over_18': False,\n",
      " 'permalink': u'https://www.reddit.com/r/relationships/comments/3rn5f6/is_what_i_f27am_doing_to_my_father_m53_really/',\n",
      " 'quarantine': False,\n",
      " 'reddit_session': <praw.Reddit object at 0x107860950>,\n",
      " 'removal_reason': None,\n",
      " 'report_reasons': None,\n",
      " 'saved': False,\n",
      " 'score': 575,\n",
      " 'secure_media': None,\n",
      " 'secure_media_embed': {},\n",
      " 'selftext': u\"I desperately need some perspective and to get this off my chest. My parents have been married for over 30 years, with mostly a good relationship besides the usual bumps.\\n\\n\\nAfter a long spell of unemployment for my dad, my mom called me in distress a week ago and told me in panic that she suspects he's cheating, or at least trying to. I snooped into his email, (he's pretty tech illiterate) and found out he has a profile in a dating site! \\n\\n\\nThere he talks to various women, telling them he's bored of his wife and looking for a gf! So here's the creepy part...I made a fake profile and contacted him. He took the bait and what has followed is more than I can handle.\\n\\n\\nAt first I was livid and disgusted but now I'm starting to feel so terrible for him. He confessed (thinking i'm this random woman) that he's not happy, something is missing in his marriage, he is feeling connected to someone for the first time ever (me) and that although he loves my mom, she was never the one and if he could go back 30 years, he'd make another choice.\\n\\n\\nHe is pushing for more contact and confessed some really personal stuff I never knew about him. I am heartbroken; my mom is a wonderful woman without whom his life would have been very different. She's given him everything, she could have done way better and this is what he does to her. He even insulted her a bit while talking to another woman, saying she's crazy and boring.\\n\\nBut I feel bad for him too, I didn't know this side of him and now I feel guilty for tricking him this way. I know it's unethical, I keep asking him things and he is telling me everything! \\n\\n\\nWhat do i do with what I know now? Do I tell my mom? Do I tell him?\\n\\n   \\n**tl;dr**: I made a fake dating profile to catch my dad red handed.He took the bait and now I don't know how to handle it!\\n\\n**edit**: I deleted the profile after having it for just one day. He opened up really fast, as if he'd been waiting to talk to someone for a while. I guess my conflict is now what to do with it, and whether to tell my mom, my dad, or both.\",\n",
      " 'selftext_html': u'<!-- SC_OFF --><div class=\"md\"><p>I desperately need some perspective and to get this off my chest. My parents have been married for over 30 years, with mostly a good relationship besides the usual bumps.</p>\\n\\n<p>After a long spell of unemployment for my dad, my mom called me in distress a week ago and told me in panic that she suspects he&#39;s cheating, or at least trying to. I snooped into his email, (he&#39;s pretty tech illiterate) and found out he has a profile in a dating site! </p>\\n\\n<p>There he talks to various women, telling them he&#39;s bored of his wife and looking for a gf! So here&#39;s the creepy part...I made a fake profile and contacted him. He took the bait and what has followed is more than I can handle.</p>\\n\\n<p>At first I was livid and disgusted but now I&#39;m starting to feel so terrible for him. He confessed (thinking i&#39;m this random woman) that he&#39;s not happy, something is missing in his marriage, he is feeling connected to someone for the first time ever (me) and that although he loves my mom, she was never the one and if he could go back 30 years, he&#39;d make another choice.</p>\\n\\n<p>He is pushing for more contact and confessed some really personal stuff I never knew about him. I am heartbroken; my mom is a wonderful woman without whom his life would have been very different. She&#39;s given him everything, she could have done way better and this is what he does to her. He even insulted her a bit while talking to another woman, saying she&#39;s crazy and boring.</p>\\n\\n<p>But I feel bad for him too, I didn&#39;t know this side of him and now I feel guilty for tricking him this way. I know it&#39;s unethical, I keep asking him things and he is telling me everything! </p>\\n\\n<p>What do i do with what I know now? Do I tell my mom? Do I tell him?</p>\\n\\n<p><strong>tl;dr</strong>: I made a fake dating profile to catch my dad red handed.He took the bait and now I don&#39;t know how to handle it!</p>\\n\\n<p><strong>edit</strong>: I deleted the profile after having it for just one day. He opened up really fast, as if he&#39;d been waiting to talk to someone for a while. I guess my conflict is now what to do with it, and whether to tell my mom, my dad, or both.</p>\\n</div><!-- SC_ON -->',\n",
      " 'stickied': False,\n",
      " 'subreddit': Subreddit(subreddit_name='relationships'),\n",
      " 'subreddit_id': u't5_2qjvn',\n",
      " 'suggested_sort': None,\n",
      " 'thumbnail': u'',\n",
      " 'title': u'Is what I (f-27)am doing to my father (m53) really creepy ?',\n",
      " 'ups': 575,\n",
      " 'url': u'https://www.reddit.com/r/relationships/comments/3rn5f6/is_what_i_f27am_doing_to_my_father_m53_really/',\n",
      " 'user_reports': [],\n",
      " 'visited': False}\n"
     ]
    }
   ],
   "source": [
    "[sub_a, sub_b, sub_c, sub_d] = submissions.get_top(limit=4)\n",
    "pprint(vars(sub_d))"
   ]
  },
  {
   "cell_type": "code",
   "execution_count": 104,
   "metadata": {
    "collapsed": false
   },
   "outputs": [],
   "source": []
  },
  {
   "cell_type": "code",
   "execution_count": null,
   "metadata": {
    "collapsed": true
   },
   "outputs": [],
   "source": []
  }
 ],
 "metadata": {
  "kernelspec": {
   "display_name": "Python 2",
   "language": "python",
   "name": "python2"
  },
  "language_info": {
   "codemirror_mode": {
    "name": "ipython",
    "version": 2
   },
   "file_extension": ".py",
   "mimetype": "text/x-python",
   "name": "python",
   "nbconvert_exporter": "python",
   "pygments_lexer": "ipython2",
   "version": "2.7.10"
  }
 },
 "nbformat": 4,
 "nbformat_minor": 0
}
