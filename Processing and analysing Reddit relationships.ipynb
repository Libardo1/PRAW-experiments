{
 "cells": [
  {
   "cell_type": "code",
   "execution_count": 1,
   "metadata": {
    "collapsed": true
   },
   "outputs": [],
   "source": [
    "# Install packages for processing data\n",
    "import urllib2\n",
    "import json\n",
    "import time"
   ]
  },
  {
   "cell_type": "code",
   "execution_count": 2,
   "metadata": {
    "collapsed": true
   },
   "outputs": [],
   "source": [
    "hdr = {'User-Agent': 'r/relationships test 1 17112015 by /u/PopularCactus'}\n",
    "url = 'https://www.reddit.com/r/relationships/top/.json?sort=top&t=all&limit=100'\n",
    "req = urllib2.Request(url, headers=hdr)\n",
    "text_data = urllib2.urlopen(req).read()\n",
    "data = json.loads(text_data)\n",
    "data_all = data.values()[1]['children']\n",
    "\n",
    "for i in range(1, 10):\n",
    "    time.sleep(5)\n",
    "    last = data_all[-1]['data']['name']\n",
    "    url = 'https://www.reddit.com/r/relationships/top/.json?sort=top&t=all&limit=100&after=%s' % last\n",
    "    req = urllib2.Request(url, headers=hdr)\n",
    "    text_data = urllib2.urlopen(req).read()\n",
    "    data = json.loads(text_data)\n",
    "    data_all += data.values()[1]['children']"
   ]
  },
  {
   "cell_type": "code",
   "execution_count": 3,
   "metadata": {
    "collapsed": false
   },
   "outputs": [],
   "source": [
    "# Extract relevant data\n",
    "article_title = []\n",
    "article_flairs = []\n",
    "article_date = []\n",
    "article_comments = []\n",
    "article_score = []\n",
    "\n",
    "for i in range(0, len(data_all)):\n",
    "    article_title.append(data_all[i]['data']['title'])\n",
    "    article_flairs.append(data_all[i]['data']['link_flair_text'])\n",
    "    article_date.append(data_all[i]['data']['created_utc'])\n",
    "    article_comments.append(data_all[i]['data']['num_comments'])\n",
    "    article_score.append(data_all[i]['data']['score'])"
   ]
  },
  {
   "cell_type": "code",
   "execution_count": 4,
   "metadata": {
    "collapsed": false
   },
   "outputs": [
    {
     "data": {
      "text/html": [
       "<div>\n",
       "<table border=\"1\" class=\"dataframe\">\n",
       "  <thead>\n",
       "    <tr style=\"text-align: right;\">\n",
       "      <th></th>\n",
       "      <th>Comments</th>\n",
       "      <th>Date</th>\n",
       "      <th>Flair</th>\n",
       "      <th>Score</th>\n",
       "      <th>Title</th>\n",
       "    </tr>\n",
       "  </thead>\n",
       "  <tbody>\n",
       "    <tr>\n",
       "      <th>0</th>\n",
       "      <td>901</td>\n",
       "      <td>1440187622</td>\n",
       "      <td>Updates</td>\n",
       "      <td>7682</td>\n",
       "      <td>[UPDATE]My [26 F] with my husband [29 M] 1 yea...</td>\n",
       "    </tr>\n",
       "    <tr>\n",
       "      <th>1</th>\n",
       "      <td>631</td>\n",
       "      <td>1438962646</td>\n",
       "      <td>◉ Locked Post ◉</td>\n",
       "      <td>5990</td>\n",
       "      <td>Update: I [30 F] am sitting in the back of my ...</td>\n",
       "    </tr>\n",
       "    <tr>\n",
       "      <th>2</th>\n",
       "      <td>622</td>\n",
       "      <td>1435026034</td>\n",
       "      <td>Updates</td>\n",
       "      <td>5496</td>\n",
       "      <td>UPDATE: My fiancee (24F) has no bridesmaids an...</td>\n",
       "    </tr>\n",
       "    <tr>\n",
       "      <th>3</th>\n",
       "      <td>974</td>\n",
       "      <td>1438393090</td>\n",
       "      <td>◉ Locked Post ◉</td>\n",
       "      <td>5271</td>\n",
       "      <td>My [42M] daughter [17F] has been bullying a gi...</td>\n",
       "    </tr>\n",
       "    <tr>\n",
       "      <th>4</th>\n",
       "      <td>769</td>\n",
       "      <td>1440543117</td>\n",
       "      <td>Updates</td>\n",
       "      <td>5169</td>\n",
       "      <td>[Update] My [26F] fiance's [28M] ex-wife [28F]...</td>\n",
       "    </tr>\n",
       "    <tr>\n",
       "      <th>5</th>\n",
       "      <td>515</td>\n",
       "      <td>1441197058</td>\n",
       "      <td>◉ Locked Post ◉</td>\n",
       "      <td>5081</td>\n",
       "      <td>Me [42F] with my son [15M] - should I have a t...</td>\n",
       "    </tr>\n",
       "    <tr>\n",
       "      <th>6</th>\n",
       "      <td>428</td>\n",
       "      <td>1424393866</td>\n",
       "      <td>Updates</td>\n",
       "      <td>4772</td>\n",
       "      <td>UPDATE: Me [23 M] with my Fiance [24 F] of 3 y...</td>\n",
       "    </tr>\n",
       "    <tr>\n",
       "      <th>7</th>\n",
       "      <td>161</td>\n",
       "      <td>1440341283</td>\n",
       "      <td>Updates</td>\n",
       "      <td>4708</td>\n",
       "      <td>UPDATE Me [26F] with my mother [49F] Who wants...</td>\n",
       "    </tr>\n",
       "    <tr>\n",
       "      <th>8</th>\n",
       "      <td>289</td>\n",
       "      <td>1437926061</td>\n",
       "      <td>Updates</td>\n",
       "      <td>4578</td>\n",
       "      <td>(update)I(30m) just found out my girlfriend(28...</td>\n",
       "    </tr>\n",
       "    <tr>\n",
       "      <th>9</th>\n",
       "      <td>618</td>\n",
       "      <td>1417909818</td>\n",
       "      <td>Infidelity</td>\n",
       "      <td>4500</td>\n",
       "      <td>[UPDATE 2] I [22M] suspect something between m...</td>\n",
       "    </tr>\n",
       "  </tbody>\n",
       "</table>\n",
       "</div>"
      ],
      "text/plain": [
       "   Comments        Date            Flair  Score  \\\n",
       "0       901  1440187622          Updates   7682   \n",
       "1       631  1438962646  ◉ Locked Post ◉   5990   \n",
       "2       622  1435026034          Updates   5496   \n",
       "3       974  1438393090  ◉ Locked Post ◉   5271   \n",
       "4       769  1440543117          Updates   5169   \n",
       "5       515  1441197058  ◉ Locked Post ◉   5081   \n",
       "6       428  1424393866          Updates   4772   \n",
       "7       161  1440341283          Updates   4708   \n",
       "8       289  1437926061          Updates   4578   \n",
       "9       618  1417909818       Infidelity   4500   \n",
       "\n",
       "                                               Title  \n",
       "0  [UPDATE]My [26 F] with my husband [29 M] 1 yea...  \n",
       "1  Update: I [30 F] am sitting in the back of my ...  \n",
       "2  UPDATE: My fiancee (24F) has no bridesmaids an...  \n",
       "3  My [42M] daughter [17F] has been bullying a gi...  \n",
       "4  [Update] My [26F] fiance's [28M] ex-wife [28F]...  \n",
       "5  Me [42F] with my son [15M] - should I have a t...  \n",
       "6  UPDATE: Me [23 M] with my Fiance [24 F] of 3 y...  \n",
       "7  UPDATE Me [26F] with my mother [49F] Who wants...  \n",
       "8  (update)I(30m) just found out my girlfriend(28...  \n",
       "9  [UPDATE 2] I [22M] suspect something between m...  "
      ]
     },
     "execution_count": 4,
     "metadata": {},
     "output_type": "execute_result"
    }
   ],
   "source": [
    "# Create DataFrame\n",
    "import numpy as np\n",
    "from pandas import Series, DataFrame\n",
    "import pandas as pd\n",
    "import re\n",
    "\n",
    "rel_df = DataFrame({'Title': article_title,\n",
    "                    'Flair': article_flairs,\n",
    "                    'Date': article_date,\n",
    "                    'Comments': article_comments,\n",
    "                    'Score': article_score})\n",
    "\n",
    "rel_df[:10]"
   ]
  },
  {
   "cell_type": "code",
   "execution_count": 5,
   "metadata": {
    "collapsed": false
   },
   "outputs": [
    {
     "data": {
      "text/html": [
       "<div>\n",
       "<table border=\"1\" class=\"dataframe\">\n",
       "  <thead>\n",
       "    <tr style=\"text-align: right;\">\n",
       "      <th></th>\n",
       "      <th>Comments</th>\n",
       "      <th>Date</th>\n",
       "      <th>Flair</th>\n",
       "      <th>Score</th>\n",
       "      <th>Title</th>\n",
       "    </tr>\n",
       "  </thead>\n",
       "  <tbody>\n",
       "    <tr>\n",
       "      <th>0</th>\n",
       "      <td>901</td>\n",
       "      <td>2015-08-21 20:07:02</td>\n",
       "      <td>Updates</td>\n",
       "      <td>7682</td>\n",
       "      <td>[UPDATE]My [26 F] with my husband [29 M] 1 yea...</td>\n",
       "    </tr>\n",
       "    <tr>\n",
       "      <th>1</th>\n",
       "      <td>631</td>\n",
       "      <td>2015-08-07 15:50:46</td>\n",
       "      <td>◉ Locked Post ◉</td>\n",
       "      <td>5990</td>\n",
       "      <td>Update: I [30 F] am sitting in the back of my ...</td>\n",
       "    </tr>\n",
       "    <tr>\n",
       "      <th>2</th>\n",
       "      <td>622</td>\n",
       "      <td>2015-06-23 02:20:34</td>\n",
       "      <td>Updates</td>\n",
       "      <td>5496</td>\n",
       "      <td>UPDATE: My fiancee (24F) has no bridesmaids an...</td>\n",
       "    </tr>\n",
       "    <tr>\n",
       "      <th>3</th>\n",
       "      <td>974</td>\n",
       "      <td>2015-08-01 01:38:10</td>\n",
       "      <td>◉ Locked Post ◉</td>\n",
       "      <td>5271</td>\n",
       "      <td>My [42M] daughter [17F] has been bullying a gi...</td>\n",
       "    </tr>\n",
       "    <tr>\n",
       "      <th>4</th>\n",
       "      <td>769</td>\n",
       "      <td>2015-08-25 22:51:57</td>\n",
       "      <td>Updates</td>\n",
       "      <td>5169</td>\n",
       "      <td>[Update] My [26F] fiance's [28M] ex-wife [28F]...</td>\n",
       "    </tr>\n",
       "    <tr>\n",
       "      <th>5</th>\n",
       "      <td>515</td>\n",
       "      <td>2015-09-02 12:30:58</td>\n",
       "      <td>◉ Locked Post ◉</td>\n",
       "      <td>5081</td>\n",
       "      <td>Me [42F] with my son [15M] - should I have a t...</td>\n",
       "    </tr>\n",
       "    <tr>\n",
       "      <th>6</th>\n",
       "      <td>428</td>\n",
       "      <td>2015-02-20 00:57:46</td>\n",
       "      <td>Updates</td>\n",
       "      <td>4772</td>\n",
       "      <td>UPDATE: Me [23 M] with my Fiance [24 F] of 3 y...</td>\n",
       "    </tr>\n",
       "    <tr>\n",
       "      <th>7</th>\n",
       "      <td>161</td>\n",
       "      <td>2015-08-23 14:48:03</td>\n",
       "      <td>Updates</td>\n",
       "      <td>4708</td>\n",
       "      <td>UPDATE Me [26F] with my mother [49F] Who wants...</td>\n",
       "    </tr>\n",
       "    <tr>\n",
       "      <th>8</th>\n",
       "      <td>289</td>\n",
       "      <td>2015-07-26 15:54:21</td>\n",
       "      <td>Updates</td>\n",
       "      <td>4578</td>\n",
       "      <td>(update)I(30m) just found out my girlfriend(28...</td>\n",
       "    </tr>\n",
       "    <tr>\n",
       "      <th>9</th>\n",
       "      <td>618</td>\n",
       "      <td>2014-12-06 23:50:18</td>\n",
       "      <td>Infidelity</td>\n",
       "      <td>4500</td>\n",
       "      <td>[UPDATE 2] I [22M] suspect something between m...</td>\n",
       "    </tr>\n",
       "  </tbody>\n",
       "</table>\n",
       "</div>"
      ],
      "text/plain": [
       "   Comments                Date            Flair  Score  \\\n",
       "0       901 2015-08-21 20:07:02          Updates   7682   \n",
       "1       631 2015-08-07 15:50:46  ◉ Locked Post ◉   5990   \n",
       "2       622 2015-06-23 02:20:34          Updates   5496   \n",
       "3       974 2015-08-01 01:38:10  ◉ Locked Post ◉   5271   \n",
       "4       769 2015-08-25 22:51:57          Updates   5169   \n",
       "5       515 2015-09-02 12:30:58  ◉ Locked Post ◉   5081   \n",
       "6       428 2015-02-20 00:57:46          Updates   4772   \n",
       "7       161 2015-08-23 14:48:03          Updates   4708   \n",
       "8       289 2015-07-26 15:54:21          Updates   4578   \n",
       "9       618 2014-12-06 23:50:18       Infidelity   4500   \n",
       "\n",
       "                                               Title  \n",
       "0  [UPDATE]My [26 F] with my husband [29 M] 1 yea...  \n",
       "1  Update: I [30 F] am sitting in the back of my ...  \n",
       "2  UPDATE: My fiancee (24F) has no bridesmaids an...  \n",
       "3  My [42M] daughter [17F] has been bullying a gi...  \n",
       "4  [Update] My [26F] fiance's [28M] ex-wife [28F]...  \n",
       "5  Me [42F] with my son [15M] - should I have a t...  \n",
       "6  UPDATE: Me [23 M] with my Fiance [24 F] of 3 y...  \n",
       "7  UPDATE Me [26F] with my mother [49F] Who wants...  \n",
       "8  (update)I(30m) just found out my girlfriend(28...  \n",
       "9  [UPDATE 2] I [22M] suspect something between m...  "
      ]
     },
     "execution_count": 5,
     "metadata": {},
     "output_type": "execute_result"
    }
   ],
   "source": [
    "# Format date\n",
    "rel_df['Date'] = pd.to_datetime((rel_df['Date'].values*1e9).astype(int))\n",
    "rel_df[:10]"
   ]
  },
  {
   "cell_type": "code",
   "execution_count": 6,
   "metadata": {
    "collapsed": false
   },
   "outputs": [
    {
     "data": {
      "text/html": [
       "<div>\n",
       "<table border=\"1\" class=\"dataframe\">\n",
       "  <thead>\n",
       "    <tr style=\"text-align: right;\">\n",
       "      <th></th>\n",
       "      <th>Comments</th>\n",
       "      <th>Date</th>\n",
       "      <th>Flair</th>\n",
       "      <th>Score</th>\n",
       "      <th>Title</th>\n",
       "    </tr>\n",
       "  </thead>\n",
       "  <tbody>\n",
       "    <tr>\n",
       "      <th>0</th>\n",
       "      <td>901</td>\n",
       "      <td>2015-08-21 20:07:02</td>\n",
       "      <td>Updates</td>\n",
       "      <td>7682</td>\n",
       "      <td>[UPDATE]My [26 F] with my husband [29 M] 1 yea...</td>\n",
       "    </tr>\n",
       "    <tr>\n",
       "      <th>1</th>\n",
       "      <td>631</td>\n",
       "      <td>2015-08-07 15:50:46</td>\n",
       "      <td>Updates</td>\n",
       "      <td>5990</td>\n",
       "      <td>Update: I [30 F] am sitting in the back of my ...</td>\n",
       "    </tr>\n",
       "    <tr>\n",
       "      <th>2</th>\n",
       "      <td>622</td>\n",
       "      <td>2015-06-23 02:20:34</td>\n",
       "      <td>Updates</td>\n",
       "      <td>5496</td>\n",
       "      <td>UPDATE: My fiancee (24F) has no bridesmaids an...</td>\n",
       "    </tr>\n",
       "    <tr>\n",
       "      <th>3</th>\n",
       "      <td>974</td>\n",
       "      <td>2015-08-01 01:38:10</td>\n",
       "      <td>NaN</td>\n",
       "      <td>5271</td>\n",
       "      <td>My [42M] daughter [17F] has been bullying a gi...</td>\n",
       "    </tr>\n",
       "    <tr>\n",
       "      <th>4</th>\n",
       "      <td>769</td>\n",
       "      <td>2015-08-25 22:51:57</td>\n",
       "      <td>Updates</td>\n",
       "      <td>5169</td>\n",
       "      <td>[Update] My [26F] fiance's [28M] ex-wife [28F]...</td>\n",
       "    </tr>\n",
       "    <tr>\n",
       "      <th>5</th>\n",
       "      <td>515</td>\n",
       "      <td>2015-09-02 12:30:58</td>\n",
       "      <td>NaN</td>\n",
       "      <td>5081</td>\n",
       "      <td>Me [42F] with my son [15M] - should I have a t...</td>\n",
       "    </tr>\n",
       "    <tr>\n",
       "      <th>6</th>\n",
       "      <td>428</td>\n",
       "      <td>2015-02-20 00:57:46</td>\n",
       "      <td>Updates</td>\n",
       "      <td>4772</td>\n",
       "      <td>UPDATE: Me [23 M] with my Fiance [24 F] of 3 y...</td>\n",
       "    </tr>\n",
       "    <tr>\n",
       "      <th>7</th>\n",
       "      <td>161</td>\n",
       "      <td>2015-08-23 14:48:03</td>\n",
       "      <td>Updates</td>\n",
       "      <td>4708</td>\n",
       "      <td>UPDATE Me [26F] with my mother [49F] Who wants...</td>\n",
       "    </tr>\n",
       "    <tr>\n",
       "      <th>8</th>\n",
       "      <td>289</td>\n",
       "      <td>2015-07-26 15:54:21</td>\n",
       "      <td>Updates</td>\n",
       "      <td>4578</td>\n",
       "      <td>(update)I(30m) just found out my girlfriend(28...</td>\n",
       "    </tr>\n",
       "    <tr>\n",
       "      <th>9</th>\n",
       "      <td>618</td>\n",
       "      <td>2014-12-06 23:50:18</td>\n",
       "      <td>Infidelity</td>\n",
       "      <td>4500</td>\n",
       "      <td>[UPDATE 2] I [22M] suspect something between m...</td>\n",
       "    </tr>\n",
       "  </tbody>\n",
       "</table>\n",
       "</div>"
      ],
      "text/plain": [
       "   Comments                Date       Flair  Score  \\\n",
       "0       901 2015-08-21 20:07:02     Updates   7682   \n",
       "1       631 2015-08-07 15:50:46     Updates   5990   \n",
       "2       622 2015-06-23 02:20:34     Updates   5496   \n",
       "3       974 2015-08-01 01:38:10         NaN   5271   \n",
       "4       769 2015-08-25 22:51:57     Updates   5169   \n",
       "5       515 2015-09-02 12:30:58         NaN   5081   \n",
       "6       428 2015-02-20 00:57:46     Updates   4772   \n",
       "7       161 2015-08-23 14:48:03     Updates   4708   \n",
       "8       289 2015-07-26 15:54:21     Updates   4578   \n",
       "9       618 2014-12-06 23:50:18  Infidelity   4500   \n",
       "\n",
       "                                               Title  \n",
       "0  [UPDATE]My [26 F] with my husband [29 M] 1 yea...  \n",
       "1  Update: I [30 F] am sitting in the back of my ...  \n",
       "2  UPDATE: My fiancee (24F) has no bridesmaids an...  \n",
       "3  My [42M] daughter [17F] has been bullying a gi...  \n",
       "4  [Update] My [26F] fiance's [28M] ex-wife [28F]...  \n",
       "5  Me [42F] with my son [15M] - should I have a t...  \n",
       "6  UPDATE: Me [23 M] with my Fiance [24 F] of 3 y...  \n",
       "7  UPDATE Me [26F] with my mother [49F] Who wants...  \n",
       "8  (update)I(30m) just found out my girlfriend(28...  \n",
       "9  [UPDATE 2] I [22M] suspect something between m...  "
      ]
     },
     "execution_count": 6,
     "metadata": {},
     "output_type": "execute_result"
    }
   ],
   "source": [
    "# Replace 'Locked Post' with update where appropriate\n",
    "replace_value = rel_df['Flair'][1]\n",
    "rel_df['Flair'] = rel_df['Flair'].replace(replace_value, np.nan)\n",
    "\n",
    "cond1 = rel_df['Title'].str.contains(\n",
    "    '^\\[?[a-z!?A-Z ]*UPDATE\\]?:?', flags = re.IGNORECASE)\n",
    "cond2 = rel_df['Flair'].isnull()\n",
    "\n",
    "rel_df.loc[(cond1 & cond2), 'Flair'] = rel_df.loc[(cond1 & cond2), 'Flair'].replace(np.nan, 'Updates')\n",
    "rel_df[:10]"
   ]
  },
  {
   "cell_type": "code",
   "execution_count": 7,
   "metadata": {
    "collapsed": false
   },
   "outputs": [
    {
     "data": {
      "text/plain": [
       "93"
      ]
     },
     "execution_count": 7,
     "metadata": {},
     "output_type": "execute_result"
    }
   ],
   "source": [
    "# Calculate number of still missing flairs\n",
    "rel_df['Flair'].isnull().sum()"
   ]
  },
  {
   "cell_type": "code",
   "execution_count": 8,
   "metadata": {
    "collapsed": true
   },
   "outputs": [],
   "source": [
    "# Extract poster age and sex\n",
    "poster_age_sex = rel_df['Title'].str.extract(\n",
    "    \"((i\\'m|i|my|me)\\s?(\\[|\\()(m|f)?(\\s|/)?[0-9]{1,2}(\\s|/)?([m,f]|male|female)?(\\]|\\)))\", \n",
    "        flags = re.IGNORECASE)[0]"
   ]
  },
  {
   "cell_type": "code",
   "execution_count": 9,
   "metadata": {
    "collapsed": false
   },
   "outputs": [],
   "source": [
    "poster_age_sex = poster_age_sex.str.replace(\"((i\\'m|i|my|me))\\s?\", \"\", flags = re.IGNORECASE)\n",
    "poster_age = poster_age_sex.str.extract('([0-9]{1,2})')\n",
    "poster_sex = poster_age_sex.str.extract('([m,f])', flags = re.IGNORECASE)\n",
    "\n",
    "rel_df['PosterAge'] = pd.to_numeric(poster_age)\n",
    "rel_df['PosterSex'] = poster_sex.str.upper()"
   ]
  },
  {
   "cell_type": "code",
   "execution_count": 12,
   "metadata": {
    "collapsed": false
   },
   "outputs": [
    {
     "data": {
      "text/html": [
       "<div>\n",
       "<table border=\"1\" class=\"dataframe\">\n",
       "  <thead>\n",
       "    <tr style=\"text-align: right;\">\n",
       "      <th></th>\n",
       "      <th>Comments</th>\n",
       "      <th>Date</th>\n",
       "      <th>Flair</th>\n",
       "      <th>Score</th>\n",
       "      <th>Title</th>\n",
       "      <th>PosterAge</th>\n",
       "      <th>PosterSex</th>\n",
       "    </tr>\n",
       "  </thead>\n",
       "  <tbody>\n",
       "    <tr>\n",
       "      <th>0</th>\n",
       "      <td>901</td>\n",
       "      <td>2015-08-21 20:07:02</td>\n",
       "      <td>Updates</td>\n",
       "      <td>7682</td>\n",
       "      <td>[UPDATE]My [26 F] with my husband [29 M] 1 yea...</td>\n",
       "      <td>26</td>\n",
       "      <td>F</td>\n",
       "    </tr>\n",
       "    <tr>\n",
       "      <th>1</th>\n",
       "      <td>631</td>\n",
       "      <td>2015-08-07 15:50:46</td>\n",
       "      <td>Updates</td>\n",
       "      <td>5990</td>\n",
       "      <td>Update: I [30 F] am sitting in the back of my ...</td>\n",
       "      <td>30</td>\n",
       "      <td>F</td>\n",
       "    </tr>\n",
       "    <tr>\n",
       "      <th>2</th>\n",
       "      <td>622</td>\n",
       "      <td>2015-06-23 02:20:34</td>\n",
       "      <td>Updates</td>\n",
       "      <td>5496</td>\n",
       "      <td>UPDATE: My fiancee (24F) has no bridesmaids an...</td>\n",
       "      <td>25</td>\n",
       "      <td>M</td>\n",
       "    </tr>\n",
       "    <tr>\n",
       "      <th>3</th>\n",
       "      <td>974</td>\n",
       "      <td>2015-08-01 01:38:10</td>\n",
       "      <td>NaN</td>\n",
       "      <td>5271</td>\n",
       "      <td>My [42M] daughter [17F] has been bullying a gi...</td>\n",
       "      <td>42</td>\n",
       "      <td>M</td>\n",
       "    </tr>\n",
       "    <tr>\n",
       "      <th>4</th>\n",
       "      <td>769</td>\n",
       "      <td>2015-08-25 22:51:57</td>\n",
       "      <td>Updates</td>\n",
       "      <td>5169</td>\n",
       "      <td>[Update] My [26F] fiance's [28M] ex-wife [28F]...</td>\n",
       "      <td>26</td>\n",
       "      <td>F</td>\n",
       "    </tr>\n",
       "    <tr>\n",
       "      <th>5</th>\n",
       "      <td>515</td>\n",
       "      <td>2015-09-02 12:30:58</td>\n",
       "      <td>NaN</td>\n",
       "      <td>5081</td>\n",
       "      <td>Me [42F] with my son [15M] - should I have a t...</td>\n",
       "      <td>42</td>\n",
       "      <td>F</td>\n",
       "    </tr>\n",
       "    <tr>\n",
       "      <th>6</th>\n",
       "      <td>428</td>\n",
       "      <td>2015-02-20 00:57:46</td>\n",
       "      <td>Updates</td>\n",
       "      <td>4772</td>\n",
       "      <td>UPDATE: Me [23 M] with my Fiance [24 F] of 3 y...</td>\n",
       "      <td>23</td>\n",
       "      <td>M</td>\n",
       "    </tr>\n",
       "    <tr>\n",
       "      <th>7</th>\n",
       "      <td>161</td>\n",
       "      <td>2015-08-23 14:48:03</td>\n",
       "      <td>Updates</td>\n",
       "      <td>4708</td>\n",
       "      <td>UPDATE Me [26F] with my mother [49F] Who wants...</td>\n",
       "      <td>26</td>\n",
       "      <td>F</td>\n",
       "    </tr>\n",
       "    <tr>\n",
       "      <th>8</th>\n",
       "      <td>289</td>\n",
       "      <td>2015-07-26 15:54:21</td>\n",
       "      <td>Updates</td>\n",
       "      <td>4578</td>\n",
       "      <td>(update)I(30m) just found out my girlfriend(28...</td>\n",
       "      <td>30</td>\n",
       "      <td>M</td>\n",
       "    </tr>\n",
       "    <tr>\n",
       "      <th>9</th>\n",
       "      <td>618</td>\n",
       "      <td>2014-12-06 23:50:18</td>\n",
       "      <td>Infidelity</td>\n",
       "      <td>4500</td>\n",
       "      <td>[UPDATE 2] I [22M] suspect something between m...</td>\n",
       "      <td>22</td>\n",
       "      <td>M</td>\n",
       "    </tr>\n",
       "  </tbody>\n",
       "</table>\n",
       "</div>"
      ],
      "text/plain": [
       "   Comments                Date       Flair  Score  \\\n",
       "0       901 2015-08-21 20:07:02     Updates   7682   \n",
       "1       631 2015-08-07 15:50:46     Updates   5990   \n",
       "2       622 2015-06-23 02:20:34     Updates   5496   \n",
       "3       974 2015-08-01 01:38:10         NaN   5271   \n",
       "4       769 2015-08-25 22:51:57     Updates   5169   \n",
       "5       515 2015-09-02 12:30:58         NaN   5081   \n",
       "6       428 2015-02-20 00:57:46     Updates   4772   \n",
       "7       161 2015-08-23 14:48:03     Updates   4708   \n",
       "8       289 2015-07-26 15:54:21     Updates   4578   \n",
       "9       618 2014-12-06 23:50:18  Infidelity   4500   \n",
       "\n",
       "                                               Title  PosterAge PosterSex  \n",
       "0  [UPDATE]My [26 F] with my husband [29 M] 1 yea...         26         F  \n",
       "1  Update: I [30 F] am sitting in the back of my ...         30         F  \n",
       "2  UPDATE: My fiancee (24F) has no bridesmaids an...         25         M  \n",
       "3  My [42M] daughter [17F] has been bullying a gi...         42         M  \n",
       "4  [Update] My [26F] fiance's [28M] ex-wife [28F]...         26         F  \n",
       "5  Me [42F] with my son [15M] - should I have a t...         42         F  \n",
       "6  UPDATE: Me [23 M] with my Fiance [24 F] of 3 y...         23         M  \n",
       "7  UPDATE Me [26F] with my mother [49F] Who wants...         26         F  \n",
       "8  (update)I(30m) just found out my girlfriend(28...         30         M  \n",
       "9  [UPDATE 2] I [22M] suspect something between m...         22         M  "
      ]
     },
     "execution_count": 12,
     "metadata": {},
     "output_type": "execute_result"
    }
   ],
   "source": [
    "rel_df[:10]"
   ]
  },
  {
   "cell_type": "code",
   "execution_count": 13,
   "metadata": {
    "collapsed": false
   },
   "outputs": [
    {
     "data": {
      "text/plain": [
       "92"
      ]
     },
     "execution_count": 13,
     "metadata": {},
     "output_type": "execute_result"
    }
   ],
   "source": [
    "# Number with missing age\n",
    "rel_df['PosterAge'].isnull().sum()"
   ]
  },
  {
   "cell_type": "code",
   "execution_count": 14,
   "metadata": {
    "collapsed": false
   },
   "outputs": [
    {
     "data": {
      "text/plain": [
       "105"
      ]
     },
     "execution_count": 14,
     "metadata": {},
     "output_type": "execute_result"
    }
   ],
   "source": [
    "# Number with missing sex\n",
    "rel_df['PosterSex'].isnull().sum()"
   ]
  },
  {
   "cell_type": "code",
   "execution_count": 15,
   "metadata": {
    "collapsed": false
   },
   "outputs": [
    {
     "data": {
      "text/plain": [
       "count    907.000000\n",
       "mean      26.642778\n",
       "std        6.315671\n",
       "min       13.000000\n",
       "25%       23.000000\n",
       "50%       26.000000\n",
       "75%       29.000000\n",
       "max       57.000000\n",
       "Name: PosterAge, dtype: float64"
      ]
     },
     "execution_count": 15,
     "metadata": {},
     "output_type": "execute_result"
    }
   ],
   "source": [
    "# Getting summary stats\n",
    "# Age\n",
    "rel_df['PosterAge'].describe()"
   ]
  },
  {
   "cell_type": "code",
   "execution_count": 16,
   "metadata": {
    "collapsed": false
   },
   "outputs": [
    {
     "data": {
      "text/plain": [
       "F    534\n",
       "M    360\n",
       "Name: PosterSex, dtype: int64"
      ]
     },
     "execution_count": 16,
     "metadata": {},
     "output_type": "execute_result"
    }
   ],
   "source": [
    "# Age\n",
    "rel_df['PosterSex'].value_counts()"
   ]
  },
  {
   "cell_type": "code",
   "execution_count": 17,
   "metadata": {
    "collapsed": false
   },
   "outputs": [
    {
     "data": {
      "text/plain": [
       "Updates            514\n",
       "Relationships      166\n",
       "Non-Romantic       156\n",
       "Infidelity          39\n",
       "Breakups            15\n",
       "Personal issues     12\n",
       "Dating               4\n",
       "Name: Flair, dtype: int64"
      ]
     },
     "execution_count": 17,
     "metadata": {},
     "output_type": "execute_result"
    }
   ],
   "source": [
    "rel_df['Flair'].value_counts()"
   ]
  },
  {
   "cell_type": "code",
   "execution_count": 18,
   "metadata": {
    "collapsed": false
   },
   "outputs": [
    {
     "data": {
      "text/plain": [
       "count     999.000000\n",
       "mean      317.618619\n",
       "std       219.430662\n",
       "min        15.000000\n",
       "25%       160.500000\n",
       "50%       269.000000\n",
       "75%       416.000000\n",
       "max      1699.000000\n",
       "Name: Comments, dtype: float64"
      ]
     },
     "execution_count": 18,
     "metadata": {},
     "output_type": "execute_result"
    }
   ],
   "source": [
    "rel_df['Comments'].describe()"
   ]
  },
  {
   "cell_type": "code",
   "execution_count": 19,
   "metadata": {
    "collapsed": false
   },
   "outputs": [
    {
     "data": {
      "text/plain": [
       "count     999.000000\n",
       "mean     1466.347347\n",
       "std       812.690380\n",
       "min       755.000000\n",
       "25%       928.000000\n",
       "50%      1195.000000\n",
       "75%      1720.000000\n",
       "max      7682.000000\n",
       "Name: Score, dtype: float64"
      ]
     },
     "execution_count": 19,
     "metadata": {},
     "output_type": "execute_result"
    }
   ],
   "source": [
    "rel_df['Score'].describe()"
   ]
  },
  {
   "cell_type": "code",
   "execution_count": 20,
   "metadata": {
    "collapsed": false
   },
   "outputs": [
    {
     "data": {
      "text/plain": [
       "Flair\n",
       "Breakups           27.416667\n",
       "Dating             24.666667\n",
       "Infidelity         26.352941\n",
       "Non-Romantic       26.641892\n",
       "Personal issues    23.333333\n",
       "Relationships      27.574194\n",
       "Updates            26.272138\n",
       "Name: PosterAge, dtype: float64"
      ]
     },
     "execution_count": 20,
     "metadata": {},
     "output_type": "execute_result"
    }
   ],
   "source": [
    "rel_df['PosterAge'].groupby([rel_df['Flair']]).mean()"
   ]
  },
  {
   "cell_type": "code",
   "execution_count": 21,
   "metadata": {
    "collapsed": false
   },
   "outputs": [
    {
     "data": {
      "text/plain": [
       "PosterSex\n",
       "F    26.123596\n",
       "M    27.411111\n",
       "Name: PosterAge, dtype: float64"
      ]
     },
     "execution_count": 21,
     "metadata": {},
     "output_type": "execute_result"
    }
   ],
   "source": [
    "rel_df['PosterAge'].groupby([rel_df['PosterSex']]).mean()"
   ]
  },
  {
   "cell_type": "code",
   "execution_count": 22,
   "metadata": {
    "collapsed": false
   },
   "outputs": [
    {
     "data": {
      "text/plain": [
       "PosterSex\n",
       "F    1152.5\n",
       "M    1253.0\n",
       "Name: Score, dtype: float64"
      ]
     },
     "execution_count": 22,
     "metadata": {},
     "output_type": "execute_result"
    }
   ],
   "source": [
    "rel_df['Score'].groupby([rel_df['PosterSex']]).median()"
   ]
  },
  {
   "cell_type": "code",
   "execution_count": 23,
   "metadata": {
    "collapsed": false
   },
   "outputs": [
    {
     "data": {
      "text/plain": [
       "PosterSex\n",
       "F    265.5\n",
       "M    282.5\n",
       "Name: Comments, dtype: float64"
      ]
     },
     "execution_count": 23,
     "metadata": {},
     "output_type": "execute_result"
    }
   ],
   "source": [
    "rel_df['Comments'].groupby([rel_df['PosterSex']]).median()"
   ]
  },
  {
   "cell_type": "code",
   "execution_count": 24,
   "metadata": {
    "collapsed": false
   },
   "outputs": [
    {
     "data": {
      "text/plain": [
       "Flair\n",
       "Breakups           1080.0\n",
       "Dating              929.0\n",
       "Infidelity         1145.0\n",
       "Non-Romantic       1103.5\n",
       "Personal issues    1269.0\n",
       "Relationships      1106.5\n",
       "Updates            1252.0\n",
       "Name: Score, dtype: float64"
      ]
     },
     "execution_count": 24,
     "metadata": {},
     "output_type": "execute_result"
    }
   ],
   "source": [
    "rel_df['Score'].groupby([rel_df['Flair']]).median()"
   ]
  },
  {
   "cell_type": "code",
   "execution_count": 25,
   "metadata": {
    "collapsed": false
   },
   "outputs": [
    {
     "data": {
      "text/plain": [
       "Flair\n",
       "Breakups           344.0\n",
       "Dating             543.5\n",
       "Infidelity         319.0\n",
       "Non-Romantic       319.0\n",
       "Personal issues    307.5\n",
       "Relationships      394.5\n",
       "Updates            194.0\n",
       "Name: Comments, dtype: float64"
      ]
     },
     "execution_count": 25,
     "metadata": {},
     "output_type": "execute_result"
    }
   ],
   "source": [
    "rel_df['Comments'].groupby([rel_df['Flair']]).median()"
   ]
  },
  {
   "cell_type": "code",
   "execution_count": 26,
   "metadata": {
    "collapsed": false
   },
   "outputs": [
    {
     "data": {
      "text/plain": [
       "<matplotlib.axes._subplots.AxesSubplot at 0x111ce8990>"
      ]
     },
     "execution_count": 26,
     "metadata": {},
     "output_type": "execute_result"
    },
    {
     "data": {
      "image/png": "[encoded data removed]",
      "text/plain": [
       "<matplotlib.figure.Figure at 0x110b9b850>"
      ]
     },
     "metadata": {},
     "output_type": "display_data"
    }
   ],
   "source": [
    "import matplotlib as plt\n",
    "%matplotlib inline\n",
    "rel_df['Score'].hist(bins = 50) "
   ]
  },
  {
   "cell_type": "code",
   "execution_count": 27,
   "metadata": {
    "collapsed": false
   },
   "outputs": [
    {
     "data": {
      "text/plain": [
       "<matplotlib.axes._subplots.AxesSubplot at 0x110b9b6d0>"
      ]
     },
     "execution_count": 27,
     "metadata": {},
     "output_type": "execute_result"
    },
    {
     "data": {
      "image/png": "[encoded data removed]",
      "text/plain": [
       "<matplotlib.figure.Figure at 0x111eb49d0>"
      ]
     },
     "metadata": {},
     "output_type": "display_data"
    }
   ],
   "source": [
    "rel_df['Comments'].hist(bins = 50) "
   ]
  },
  {
   "cell_type": "code",
   "execution_count": 28,
   "metadata": {
    "collapsed": false
   },
   "outputs": [
    {
     "data": {
      "text/plain": [
       "2.3564784923794857"
      ]
     },
     "execution_count": 28,
     "metadata": {},
     "output_type": "execute_result"
    }
   ],
   "source": [
    "rel_df['Score'].skew()"
   ]
  },
  {
   "cell_type": "code",
   "execution_count": 29,
   "metadata": {
    "collapsed": false
   },
   "outputs": [
    {
     "data": {
      "text/plain": [
       "0.01618433976919843"
      ]
     },
     "execution_count": 29,
     "metadata": {},
     "output_type": "execute_result"
    }
   ],
   "source": [
    "rel_df['Score'].corr(rel_df['PosterAge'])"
   ]
  },
  {
   "cell_type": "code",
   "execution_count": 30,
   "metadata": {
    "collapsed": false
   },
   "outputs": [
    {
     "data": {
      "text/plain": [
       "0.028309395305864616"
      ]
     },
     "execution_count": 30,
     "metadata": {},
     "output_type": "execute_result"
    }
   ],
   "source": [
    "rel_df['Comments'].corr(rel_df['PosterAge'])"
   ]
  },
  {
   "cell_type": "code",
   "execution_count": 31,
   "metadata": {
    "collapsed": false
   },
   "outputs": [],
   "source": [
    "grouped = rel_df.groupby('Flair')\n",
    "score_by_flair = grouped['Score'].median()"
   ]
  },
  {
   "cell_type": "code",
   "execution_count": 32,
   "metadata": {
    "collapsed": false
   },
   "outputs": [
    {
     "data": {
      "text/plain": [
       "Flair\n",
       "Breakups           1080.0\n",
       "Dating              929.0\n",
       "Infidelity         1145.0\n",
       "Non-Romantic       1103.5\n",
       "Personal issues    1269.0\n",
       "Relationships      1106.5\n",
       "Updates            1252.0\n",
       "Name: Score, dtype: float64"
      ]
     },
     "execution_count": 32,
     "metadata": {},
     "output_type": "execute_result"
    }
   ],
   "source": [
    "score_by_flair"
   ]
  },
  {
   "cell_type": "code",
   "execution_count": 33,
   "metadata": {
    "collapsed": false
   },
   "outputs": [
    {
     "data": {
      "text/plain": [
       "<matplotlib.axes._subplots.AxesSubplot at 0x1120f5c10>"
      ]
     },
     "execution_count": 33,
     "metadata": {},
     "output_type": "execute_result"
    },
    {
     "data": {
      "image/png": "[encoded data removed]",
      "text/plain": [
       "<matplotlib.figure.Figure at 0x11212de90>"
      ]
     },
     "metadata": {},
     "output_type": "display_data"
    }
   ],
   "source": [
    "score_by_flair.plot(kind = 'barh', color = 'g')"
   ]
  },
  {
   "cell_type": "code",
   "execution_count": 34,
   "metadata": {
    "collapsed": false
   },
   "outputs": [
    {
     "data": {
      "text/plain": [
       "Flair\n",
       "Breakups           344.0\n",
       "Dating             543.5\n",
       "Infidelity         319.0\n",
       "Non-Romantic       319.0\n",
       "Personal issues    307.5\n",
       "Relationships      394.5\n",
       "Updates            194.0\n",
       "Name: Comments, dtype: float64"
      ]
     },
     "execution_count": 34,
     "metadata": {},
     "output_type": "execute_result"
    }
   ],
   "source": [
    "grouped = rel_df.groupby('Flair')\n",
    "comm_by_flair = grouped['Comments'].median()\n",
    "comm_by_flair"
   ]
  },
  {
   "cell_type": "code",
   "execution_count": 35,
   "metadata": {
    "collapsed": false
   },
   "outputs": [],
   "source": [
    "rel_df['DayOfWeek'] = rel_df['Date'].dt.dayofweek\n",
    "days = {0: 'Mon', 1: 'Tues', 2: 'Weds', 3: 'Thurs', 4: 'Fri',\n",
    "        5: 'Sat', 6: 'Sun'}\n",
    "rel_df['DayOfWeek'] = rel_df['DayOfWeek'].apply(lambda x: days[x])"
   ]
  },
  {
   "cell_type": "code",
   "execution_count": 36,
   "metadata": {
    "collapsed": false
   },
   "outputs": [
    {
     "data": {
      "text/html": [
       "<div>\n",
       "<table border=\"1\" class=\"dataframe\">\n",
       "  <thead>\n",
       "    <tr style=\"text-align: right;\">\n",
       "      <th></th>\n",
       "      <th>Comments</th>\n",
       "      <th>Date</th>\n",
       "      <th>Flair</th>\n",
       "      <th>Score</th>\n",
       "      <th>Title</th>\n",
       "      <th>PosterAge</th>\n",
       "      <th>PosterSex</th>\n",
       "      <th>DayOfWeek</th>\n",
       "    </tr>\n",
       "  </thead>\n",
       "  <tbody>\n",
       "    <tr>\n",
       "      <th>0</th>\n",
       "      <td>901</td>\n",
       "      <td>2015-08-21 20:07:02</td>\n",
       "      <td>Updates</td>\n",
       "      <td>7682</td>\n",
       "      <td>[UPDATE]My [26 F] with my husband [29 M] 1 yea...</td>\n",
       "      <td>26</td>\n",
       "      <td>F</td>\n",
       "      <td>Fri</td>\n",
       "    </tr>\n",
       "    <tr>\n",
       "      <th>1</th>\n",
       "      <td>631</td>\n",
       "      <td>2015-08-07 15:50:46</td>\n",
       "      <td>Updates</td>\n",
       "      <td>5990</td>\n",
       "      <td>Update: I [30 F] am sitting in the back of my ...</td>\n",
       "      <td>30</td>\n",
       "      <td>F</td>\n",
       "      <td>Fri</td>\n",
       "    </tr>\n",
       "    <tr>\n",
       "      <th>2</th>\n",
       "      <td>622</td>\n",
       "      <td>2015-06-23 02:20:34</td>\n",
       "      <td>Updates</td>\n",
       "      <td>5496</td>\n",
       "      <td>UPDATE: My fiancee (24F) has no bridesmaids an...</td>\n",
       "      <td>25</td>\n",
       "      <td>M</td>\n",
       "      <td>Tues</td>\n",
       "    </tr>\n",
       "    <tr>\n",
       "      <th>3</th>\n",
       "      <td>974</td>\n",
       "      <td>2015-08-01 01:38:10</td>\n",
       "      <td>NaN</td>\n",
       "      <td>5271</td>\n",
       "      <td>My [42M] daughter [17F] has been bullying a gi...</td>\n",
       "      <td>42</td>\n",
       "      <td>M</td>\n",
       "      <td>Sat</td>\n",
       "    </tr>\n",
       "    <tr>\n",
       "      <th>4</th>\n",
       "      <td>769</td>\n",
       "      <td>2015-08-25 22:51:57</td>\n",
       "      <td>Updates</td>\n",
       "      <td>5169</td>\n",
       "      <td>[Update] My [26F] fiance's [28M] ex-wife [28F]...</td>\n",
       "      <td>26</td>\n",
       "      <td>F</td>\n",
       "      <td>Tues</td>\n",
       "    </tr>\n",
       "    <tr>\n",
       "      <th>5</th>\n",
       "      <td>515</td>\n",
       "      <td>2015-09-02 12:30:58</td>\n",
       "      <td>NaN</td>\n",
       "      <td>5081</td>\n",
       "      <td>Me [42F] with my son [15M] - should I have a t...</td>\n",
       "      <td>42</td>\n",
       "      <td>F</td>\n",
       "      <td>Weds</td>\n",
       "    </tr>\n",
       "    <tr>\n",
       "      <th>6</th>\n",
       "      <td>428</td>\n",
       "      <td>2015-02-20 00:57:46</td>\n",
       "      <td>Updates</td>\n",
       "      <td>4772</td>\n",
       "      <td>UPDATE: Me [23 M] with my Fiance [24 F] of 3 y...</td>\n",
       "      <td>23</td>\n",
       "      <td>M</td>\n",
       "      <td>Fri</td>\n",
       "    </tr>\n",
       "    <tr>\n",
       "      <th>7</th>\n",
       "      <td>161</td>\n",
       "      <td>2015-08-23 14:48:03</td>\n",
       "      <td>Updates</td>\n",
       "      <td>4708</td>\n",
       "      <td>UPDATE Me [26F] with my mother [49F] Who wants...</td>\n",
       "      <td>26</td>\n",
       "      <td>F</td>\n",
       "      <td>Sun</td>\n",
       "    </tr>\n",
       "    <tr>\n",
       "      <th>8</th>\n",
       "      <td>289</td>\n",
       "      <td>2015-07-26 15:54:21</td>\n",
       "      <td>Updates</td>\n",
       "      <td>4578</td>\n",
       "      <td>(update)I(30m) just found out my girlfriend(28...</td>\n",
       "      <td>30</td>\n",
       "      <td>M</td>\n",
       "      <td>Sun</td>\n",
       "    </tr>\n",
       "    <tr>\n",
       "      <th>9</th>\n",
       "      <td>618</td>\n",
       "      <td>2014-12-06 23:50:18</td>\n",
       "      <td>Infidelity</td>\n",
       "      <td>4500</td>\n",
       "      <td>[UPDATE 2] I [22M] suspect something between m...</td>\n",
       "      <td>22</td>\n",
       "      <td>M</td>\n",
       "      <td>Sat</td>\n",
       "    </tr>\n",
       "  </tbody>\n",
       "</table>\n",
       "</div>"
      ],
      "text/plain": [
       "   Comments                Date       Flair  Score  \\\n",
       "0       901 2015-08-21 20:07:02     Updates   7682   \n",
       "1       631 2015-08-07 15:50:46     Updates   5990   \n",
       "2       622 2015-06-23 02:20:34     Updates   5496   \n",
       "3       974 2015-08-01 01:38:10         NaN   5271   \n",
       "4       769 2015-08-25 22:51:57     Updates   5169   \n",
       "5       515 2015-09-02 12:30:58         NaN   5081   \n",
       "6       428 2015-02-20 00:57:46     Updates   4772   \n",
       "7       161 2015-08-23 14:48:03     Updates   4708   \n",
       "8       289 2015-07-26 15:54:21     Updates   4578   \n",
       "9       618 2014-12-06 23:50:18  Infidelity   4500   \n",
       "\n",
       "                                               Title  PosterAge PosterSex  \\\n",
       "0  [UPDATE]My [26 F] with my husband [29 M] 1 yea...         26         F   \n",
       "1  Update: I [30 F] am sitting in the back of my ...         30         F   \n",
       "2  UPDATE: My fiancee (24F) has no bridesmaids an...         25         M   \n",
       "3  My [42M] daughter [17F] has been bullying a gi...         42         M   \n",
       "4  [Update] My [26F] fiance's [28M] ex-wife [28F]...         26         F   \n",
       "5  Me [42F] with my son [15M] - should I have a t...         42         F   \n",
       "6  UPDATE: Me [23 M] with my Fiance [24 F] of 3 y...         23         M   \n",
       "7  UPDATE Me [26F] with my mother [49F] Who wants...         26         F   \n",
       "8  (update)I(30m) just found out my girlfriend(28...         30         M   \n",
       "9  [UPDATE 2] I [22M] suspect something between m...         22         M   \n",
       "\n",
       "  DayOfWeek  \n",
       "0       Fri  \n",
       "1       Fri  \n",
       "2      Tues  \n",
       "3       Sat  \n",
       "4      Tues  \n",
       "5      Weds  \n",
       "6       Fri  \n",
       "7       Sun  \n",
       "8       Sun  \n",
       "9       Sat  "
      ]
     },
     "execution_count": 36,
     "metadata": {},
     "output_type": "execute_result"
    }
   ],
   "source": [
    "rel_df[:10]"
   ]
  },
  {
   "cell_type": "code",
   "execution_count": 37,
   "metadata": {
    "collapsed": false
   },
   "outputs": [
    {
     "data": {
      "text/plain": [
       "DayOfWeek\n",
       "Fri      262.0\n",
       "Mon      241.0\n",
       "Sat      275.5\n",
       "Sun      242.0\n",
       "Thurs    287.5\n",
       "Tues     247.0\n",
       "Weds     319.0\n",
       "Name: Comments, dtype: float64"
      ]
     },
     "execution_count": 37,
     "metadata": {},
     "output_type": "execute_result"
    }
   ],
   "source": [
    "rel_df['Comments'].groupby([rel_df['DayOfWeek']]).median()"
   ]
  },
  {
   "cell_type": "code",
   "execution_count": 38,
   "metadata": {
    "collapsed": false
   },
   "outputs": [
    {
     "data": {
      "text/plain": [
       "DayOfWeek\n",
       "Fri      1275.0\n",
       "Mon      1199.0\n",
       "Sat      1240.0\n",
       "Sun      1224.0\n",
       "Thurs    1091.5\n",
       "Tues     1163.0\n",
       "Weds     1211.0\n",
       "Name: Score, dtype: float64"
      ]
     },
     "execution_count": 38,
     "metadata": {},
     "output_type": "execute_result"
    }
   ],
   "source": [
    "rel_df['Score'].groupby([rel_df['DayOfWeek']]).median()"
   ]
  },
  {
   "cell_type": "code",
   "execution_count": 39,
   "metadata": {
    "collapsed": false
   },
   "outputs": [
    {
     "data": {
      "text/html": [
       "<div>\n",
       "<table border=\"1\" class=\"dataframe\">\n",
       "  <thead>\n",
       "    <tr style=\"text-align: right;\">\n",
       "      <th></th>\n",
       "      <th></th>\n",
       "      <th>Score</th>\n",
       "      <th>Comments</th>\n",
       "    </tr>\n",
       "    <tr>\n",
       "      <th>DayOfWeek</th>\n",
       "      <th>Flair</th>\n",
       "      <th></th>\n",
       "      <th></th>\n",
       "    </tr>\n",
       "  </thead>\n",
       "  <tbody>\n",
       "    <tr>\n",
       "      <th rowspan=\"6\" valign=\"top\">Fri</th>\n",
       "      <th>Breakups</th>\n",
       "      <td>1080.0</td>\n",
       "      <td>150.0</td>\n",
       "    </tr>\n",
       "    <tr>\n",
       "      <th>Infidelity</th>\n",
       "      <td>985.0</td>\n",
       "      <td>254.5</td>\n",
       "    </tr>\n",
       "    <tr>\n",
       "      <th>Non-Romantic</th>\n",
       "      <td>1071.0</td>\n",
       "      <td>318.5</td>\n",
       "    </tr>\n",
       "    <tr>\n",
       "      <th>Personal issues</th>\n",
       "      <td>1456.0</td>\n",
       "      <td>423.5</td>\n",
       "    </tr>\n",
       "    <tr>\n",
       "      <th>Relationships</th>\n",
       "      <td>1224.0</td>\n",
       "      <td>428.0</td>\n",
       "    </tr>\n",
       "    <tr>\n",
       "      <th>Updates</th>\n",
       "      <td>1341.0</td>\n",
       "      <td>202.5</td>\n",
       "    </tr>\n",
       "    <tr>\n",
       "      <th rowspan=\"6\" valign=\"top\">Mon</th>\n",
       "      <th>Breakups</th>\n",
       "      <td>1074.0</td>\n",
       "      <td>396.0</td>\n",
       "    </tr>\n",
       "    <tr>\n",
       "      <th>Infidelity</th>\n",
       "      <td>1053.5</td>\n",
       "      <td>317.5</td>\n",
       "    </tr>\n",
       "    <tr>\n",
       "      <th>Non-Romantic</th>\n",
       "      <td>1076.0</td>\n",
       "      <td>263.0</td>\n",
       "    </tr>\n",
       "    <tr>\n",
       "      <th>Personal issues</th>\n",
       "      <td>1027.0</td>\n",
       "      <td>190.0</td>\n",
       "    </tr>\n",
       "    <tr>\n",
       "      <th>Relationships</th>\n",
       "      <td>1063.0</td>\n",
       "      <td>403.0</td>\n",
       "    </tr>\n",
       "    <tr>\n",
       "      <th>Updates</th>\n",
       "      <td>1273.0</td>\n",
       "      <td>192.0</td>\n",
       "    </tr>\n",
       "    <tr>\n",
       "      <th rowspan=\"7\" valign=\"top\">Sat</th>\n",
       "      <th>Breakups</th>\n",
       "      <td>1563.0</td>\n",
       "      <td>444.0</td>\n",
       "    </tr>\n",
       "    <tr>\n",
       "      <th>Dating</th>\n",
       "      <td>792.0</td>\n",
       "      <td>501.0</td>\n",
       "    </tr>\n",
       "    <tr>\n",
       "      <th>Infidelity</th>\n",
       "      <td>1397.0</td>\n",
       "      <td>286.0</td>\n",
       "    </tr>\n",
       "    <tr>\n",
       "      <th>Non-Romantic</th>\n",
       "      <td>1076.5</td>\n",
       "      <td>266.5</td>\n",
       "    </tr>\n",
       "    <tr>\n",
       "      <th>Personal issues</th>\n",
       "      <td>1238.0</td>\n",
       "      <td>147.0</td>\n",
       "    </tr>\n",
       "    <tr>\n",
       "      <th>Relationships</th>\n",
       "      <td>1049.5</td>\n",
       "      <td>376.5</td>\n",
       "    </tr>\n",
       "    <tr>\n",
       "      <th>Updates</th>\n",
       "      <td>1460.0</td>\n",
       "      <td>188.0</td>\n",
       "    </tr>\n",
       "    <tr>\n",
       "      <th rowspan=\"7\" valign=\"top\">Sun</th>\n",
       "      <th>Breakups</th>\n",
       "      <td>1156.5</td>\n",
       "      <td>256.5</td>\n",
       "    </tr>\n",
       "    <tr>\n",
       "      <th>Dating</th>\n",
       "      <td>944.5</td>\n",
       "      <td>379.0</td>\n",
       "    </tr>\n",
       "    <tr>\n",
       "      <th>Infidelity</th>\n",
       "      <td>1219.0</td>\n",
       "      <td>367.0</td>\n",
       "    </tr>\n",
       "    <tr>\n",
       "      <th>Non-Romantic</th>\n",
       "      <td>1029.0</td>\n",
       "      <td>366.0</td>\n",
       "    </tr>\n",
       "    <tr>\n",
       "      <th>Personal issues</th>\n",
       "      <td>1551.0</td>\n",
       "      <td>307.5</td>\n",
       "    </tr>\n",
       "    <tr>\n",
       "      <th>Relationships</th>\n",
       "      <td>1018.0</td>\n",
       "      <td>357.0</td>\n",
       "    </tr>\n",
       "    <tr>\n",
       "      <th>Updates</th>\n",
       "      <td>1308.5</td>\n",
       "      <td>156.5</td>\n",
       "    </tr>\n",
       "    <tr>\n",
       "      <th rowspan=\"5\" valign=\"top\">Thurs</th>\n",
       "      <th>Breakups</th>\n",
       "      <td>964.5</td>\n",
       "      <td>937.5</td>\n",
       "    </tr>\n",
       "    <tr>\n",
       "      <th>Infidelity</th>\n",
       "      <td>940.0</td>\n",
       "      <td>340.0</td>\n",
       "    </tr>\n",
       "    <tr>\n",
       "      <th>Non-Romantic</th>\n",
       "      <td>1237.0</td>\n",
       "      <td>357.5</td>\n",
       "    </tr>\n",
       "    <tr>\n",
       "      <th>Relationships</th>\n",
       "      <td>1063.0</td>\n",
       "      <td>349.5</td>\n",
       "    </tr>\n",
       "    <tr>\n",
       "      <th>Updates</th>\n",
       "      <td>1091.5</td>\n",
       "      <td>199.0</td>\n",
       "    </tr>\n",
       "    <tr>\n",
       "      <th rowspan=\"7\" valign=\"top\">Tues</th>\n",
       "      <th>Breakups</th>\n",
       "      <td>1098.0</td>\n",
       "      <td>344.0</td>\n",
       "    </tr>\n",
       "    <tr>\n",
       "      <th>Dating</th>\n",
       "      <td>946.0</td>\n",
       "      <td>697.0</td>\n",
       "    </tr>\n",
       "    <tr>\n",
       "      <th>Infidelity</th>\n",
       "      <td>1145.0</td>\n",
       "      <td>360.0</td>\n",
       "    </tr>\n",
       "    <tr>\n",
       "      <th>Non-Romantic</th>\n",
       "      <td>1203.0</td>\n",
       "      <td>321.0</td>\n",
       "    </tr>\n",
       "    <tr>\n",
       "      <th>Personal issues</th>\n",
       "      <td>1205.0</td>\n",
       "      <td>218.0</td>\n",
       "    </tr>\n",
       "    <tr>\n",
       "      <th>Relationships</th>\n",
       "      <td>936.5</td>\n",
       "      <td>390.5</td>\n",
       "    </tr>\n",
       "    <tr>\n",
       "      <th>Updates</th>\n",
       "      <td>1200.0</td>\n",
       "      <td>191.0</td>\n",
       "    </tr>\n",
       "    <tr>\n",
       "      <th rowspan=\"6\" valign=\"top\">Weds</th>\n",
       "      <th>Breakups</th>\n",
       "      <td>1161.5</td>\n",
       "      <td>350.0</td>\n",
       "    </tr>\n",
       "    <tr>\n",
       "      <th>Infidelity</th>\n",
       "      <td>1157.0</td>\n",
       "      <td>384.0</td>\n",
       "    </tr>\n",
       "    <tr>\n",
       "      <th>Non-Romantic</th>\n",
       "      <td>1142.0</td>\n",
       "      <td>437.0</td>\n",
       "    </tr>\n",
       "    <tr>\n",
       "      <th>Personal issues</th>\n",
       "      <td>1456.0</td>\n",
       "      <td>413.0</td>\n",
       "    </tr>\n",
       "    <tr>\n",
       "      <th>Relationships</th>\n",
       "      <td>1243.0</td>\n",
       "      <td>397.0</td>\n",
       "    </tr>\n",
       "    <tr>\n",
       "      <th>Updates</th>\n",
       "      <td>1221.0</td>\n",
       "      <td>230.0</td>\n",
       "    </tr>\n",
       "  </tbody>\n",
       "</table>\n",
       "</div>"
      ],
      "text/plain": [
       "                            Score  Comments\n",
       "DayOfWeek Flair                            \n",
       "Fri       Breakups         1080.0     150.0\n",
       "          Infidelity        985.0     254.5\n",
       "          Non-Romantic     1071.0     318.5\n",
       "          Personal issues  1456.0     423.5\n",
       "          Relationships    1224.0     428.0\n",
       "          Updates          1341.0     202.5\n",
       "Mon       Breakups         1074.0     396.0\n",
       "          Infidelity       1053.5     317.5\n",
       "          Non-Romantic     1076.0     263.0\n",
       "          Personal issues  1027.0     190.0\n",
       "          Relationships    1063.0     403.0\n",
       "          Updates          1273.0     192.0\n",
       "Sat       Breakups         1563.0     444.0\n",
       "          Dating            792.0     501.0\n",
       "          Infidelity       1397.0     286.0\n",
       "          Non-Romantic     1076.5     266.5\n",
       "          Personal issues  1238.0     147.0\n",
       "          Relationships    1049.5     376.5\n",
       "          Updates          1460.0     188.0\n",
       "Sun       Breakups         1156.5     256.5\n",
       "          Dating            944.5     379.0\n",
       "          Infidelity       1219.0     367.0\n",
       "          Non-Romantic     1029.0     366.0\n",
       "          Personal issues  1551.0     307.5\n",
       "          Relationships    1018.0     357.0\n",
       "          Updates          1308.5     156.5\n",
       "Thurs     Breakups          964.5     937.5\n",
       "          Infidelity        940.0     340.0\n",
       "          Non-Romantic     1237.0     357.5\n",
       "          Relationships    1063.0     349.5\n",
       "          Updates          1091.5     199.0\n",
       "Tues      Breakups         1098.0     344.0\n",
       "          Dating            946.0     697.0\n",
       "          Infidelity       1145.0     360.0\n",
       "          Non-Romantic     1203.0     321.0\n",
       "          Personal issues  1205.0     218.0\n",
       "          Relationships     936.5     390.5\n",
       "          Updates          1200.0     191.0\n",
       "Weds      Breakups         1161.5     350.0\n",
       "          Infidelity       1157.0     384.0\n",
       "          Non-Romantic     1142.0     437.0\n",
       "          Personal issues  1456.0     413.0\n",
       "          Relationships    1243.0     397.0\n",
       "          Updates          1221.0     230.0"
      ]
     },
     "execution_count": 39,
     "metadata": {},
     "output_type": "execute_result"
    }
   ],
   "source": [
    "rel_df.groupby(['DayOfWeek', 'Flair'])[\n",
    "    ['Score', 'Comments']].median()"
   ]
  },
  {
   "cell_type": "code",
   "execution_count": 40,
   "metadata": {
    "collapsed": false
   },
   "outputs": [
    {
     "name": "stderr",
     "output_type": "stream",
     "text": [
      "/Users/jburchell/.virtualenvs/reddit_api/lib/python2.7/site-packages/pandas/core/index.py:4281: FutureWarning: elementwise comparison failed; returning scalar instead, but in the future will perform elementwise comparison\n",
      "  return np.sum(name == np.asarray(self.names)) > 1\n"
     ]
    }
   ],
   "source": [
    "score_day_flair = rel_df.groupby(['DayOfWeek', 'Flair']\n",
    "                                )['Score'].median()\n",
    "score_day_flair = score_day_flair.unstack()\n",
    "score_day_flair = score_day_flair.drop('Dating', 1)\n",
    "score_day_flair = score_day_flair.reindex(['Mon', 'Tues', 'Weds', \n",
    "                                           'Thurs', 'Fri', 'Sat', \n",
    "                                           'Sun'])"
   ]
  },
  {
   "cell_type": "code",
   "execution_count": 41,
   "metadata": {
    "collapsed": false
   },
   "outputs": [
    {
     "data": {
      "text/plain": [
       "<matplotlib.axes._subplots.AxesSubplot at 0x1122a8150>"
      ]
     },
     "execution_count": 41,
     "metadata": {},
     "output_type": "execute_result"
    },
    {
     "data": {
      "image/png": "[encoded data removed]",
      "text/plain": [
       "<matplotlib.figure.Figure at 0x1122a0350>"
      ]
     },
     "metadata": {},
     "output_type": "display_data"
    }
   ],
   "source": [
    "score_day_flair.plot(kind = 'barh')"
   ]
  },
  {
   "cell_type": "code",
   "execution_count": 42,
   "metadata": {
    "collapsed": true
   },
   "outputs": [],
   "source": [
    "score_flair = rel_df.groupby('DayOfWeek')['Score'].median()\n",
    "score_flair = score_flair.reindex(['Mon', 'Tues', 'Weds', 'Thurs', \n",
    "                                   'Fri', 'Sat', 'Sun'])"
   ]
  },
  {
   "cell_type": "code",
   "execution_count": 43,
   "metadata": {
    "collapsed": false
   },
   "outputs": [
    {
     "data": {
      "text/plain": [
       "DayOfWeek\n",
       "Mon      1199.0\n",
       "Tues     1163.0\n",
       "Weds     1211.0\n",
       "Thurs    1091.5\n",
       "Fri      1275.0\n",
       "Sat      1240.0\n",
       "Sun      1224.0\n",
       "Name: Score, dtype: float64"
      ]
     },
     "execution_count": 43,
     "metadata": {},
     "output_type": "execute_result"
    }
   ],
   "source": [
    "score_flair"
   ]
  },
  {
   "cell_type": "code",
   "execution_count": 44,
   "metadata": {
    "collapsed": false
   },
   "outputs": [
    {
     "data": {
      "text/plain": [
       "<matplotlib.axes._subplots.AxesSubplot at 0x112570f50>"
      ]
     },
     "execution_count": 44,
     "metadata": {},
     "output_type": "execute_result"
    },
    {
     "data": {
      "image/png": "[encoded data removed]",
      "text/plain": [
       "<matplotlib.figure.Figure at 0x11218fc50>"
      ]
     },
     "metadata": {},
     "output_type": "display_data"
    }
   ],
   "source": [
    "score_flair.plot()"
   ]
  },
  {
   "cell_type": "code",
   "execution_count": 45,
   "metadata": {
    "collapsed": true
   },
   "outputs": [],
   "source": [
    "score_com_day = rel_df.groupby('DayOfWeek')[\n",
    "    ['Score', 'Comments']].median()\n",
    "score_com_day = score_com_day.reindex(['Mon', 'Tues', 'Weds', \n",
    "                                       'Thurs', 'Fri', 'Sat', \n",
    "                                       'Sun'])"
   ]
  },
  {
   "cell_type": "code",
   "execution_count": 46,
   "metadata": {
    "collapsed": false
   },
   "outputs": [
    {
     "data": {
      "text/html": [
       "<div>\n",
       "<table border=\"1\" class=\"dataframe\">\n",
       "  <thead>\n",
       "    <tr style=\"text-align: right;\">\n",
       "      <th>DayOfWeek</th>\n",
       "      <th>Mon</th>\n",
       "      <th>Tues</th>\n",
       "      <th>Weds</th>\n",
       "      <th>Thurs</th>\n",
       "      <th>Fri</th>\n",
       "      <th>Sat</th>\n",
       "      <th>Sun</th>\n",
       "    </tr>\n",
       "  </thead>\n",
       "  <tbody>\n",
       "    <tr>\n",
       "      <th>Score</th>\n",
       "      <td>0.142679</td>\n",
       "      <td>0.138395</td>\n",
       "      <td>0.144107</td>\n",
       "      <td>0.129886</td>\n",
       "      <td>0.151722</td>\n",
       "      <td>0.147558</td>\n",
       "      <td>0.145654</td>\n",
       "    </tr>\n",
       "    <tr>\n",
       "      <th>Comments</th>\n",
       "      <td>0.128602</td>\n",
       "      <td>0.131804</td>\n",
       "      <td>0.170224</td>\n",
       "      <td>0.153415</td>\n",
       "      <td>0.139808</td>\n",
       "      <td>0.147012</td>\n",
       "      <td>0.129136</td>\n",
       "    </tr>\n",
       "  </tbody>\n",
       "</table>\n",
       "</div>"
      ],
      "text/plain": [
       "DayOfWeek       Mon      Tues      Weds     Thurs       Fri       Sat  \\\n",
       "Score      0.142679  0.138395  0.144107  0.129886  0.151722  0.147558   \n",
       "Comments   0.128602  0.131804  0.170224  0.153415  0.139808  0.147012   \n",
       "\n",
       "DayOfWeek       Sun  \n",
       "Score      0.145654  \n",
       "Comments   0.129136  "
      ]
     },
     "execution_count": 46,
     "metadata": {},
     "output_type": "execute_result"
    }
   ],
   "source": [
    "score_com_day = score_com_day.transpose()\n",
    "score_com_pcts = score_com_day.div(score_com_day.sum(1).\n",
    "                                  astype(float), axis = 0)\n",
    "score_com_pcts"
   ]
  },
  {
   "cell_type": "code",
   "execution_count": 47,
   "metadata": {
    "collapsed": false
   },
   "outputs": [
    {
     "data": {
      "text/plain": [
       "<matplotlib.axes._subplots.AxesSubplot at 0x11257d9d0>"
      ]
     },
     "execution_count": 47,
     "metadata": {},
     "output_type": "execute_result"
    },
    {
     "data": {
      "image/png": "[encoded data removed]",
      "text/plain": [
       "<matplotlib.figure.Figure at 0x112606850>"
      ]
     },
     "metadata": {},
     "output_type": "display_data"
    }
   ],
   "source": [
    "score_com_pcts.transpose().plot()"
   ]
  },
  {
   "cell_type": "code",
   "execution_count": 48,
   "metadata": {
    "collapsed": false
   },
   "outputs": [
    {
     "data": {
      "text/plain": [
       "<matplotlib.axes._subplots.AxesSubplot at 0x112755150>"
      ]
     },
     "execution_count": 48,
     "metadata": {},
     "output_type": "execute_result"
    },
    {
     "data": {
      "image/png": "[encoded data removed]",
      "text/plain": [
       "<matplotlib.figure.Figure at 0x11288bf50>"
      ]
     },
     "metadata": {},
     "output_type": "display_data"
    }
   ],
   "source": [
    "score_flair = rel_df.groupby(['Flair', 'PosterSex'])['Score'].median()\n",
    "score_flair.unstack().plot()"
   ]
  },
  {
   "cell_type": "code",
   "execution_count": 49,
   "metadata": {
    "collapsed": false
   },
   "outputs": [
    {
     "data": {
      "text/plain": [
       "<matplotlib.axes._subplots.AxesSubplot at 0x1128d60d0>"
      ]
     },
     "execution_count": 49,
     "metadata": {},
     "output_type": "execute_result"
    },
    {
     "data": {
      "image/png": "[encoded data removed]",
      "text/plain": [
       "<matplotlib.figure.Figure at 0x1129ffcd0>"
      ]
     },
     "metadata": {},
     "output_type": "display_data"
    }
   ],
   "source": [
    "score_flair = rel_df.groupby(['Flair', 'PosterSex'])['Comments'].median()\n",
    "score_flair.unstack().plot()"
   ]
  },
  {
   "cell_type": "code",
   "execution_count": null,
   "metadata": {
    "collapsed": true
   },
   "outputs": [],
   "source": []
  }
 ],
 "metadata": {
  "kernelspec": {
   "display_name": "Python 2",
   "language": "python",
   "name": "python2"
  },
  "language_info": {
   "codemirror_mode": {
    "name": "ipython",
    "version": 2
   },
   "file_extension": ".py",
   "mimetype": "text/x-python",
   "name": "python",
   "nbconvert_exporter": "python",
   "pygments_lexer": "ipython2",
   "version": "2.7.10"
  }
 },
 "nbformat": 4,
 "nbformat_minor": 0
}
