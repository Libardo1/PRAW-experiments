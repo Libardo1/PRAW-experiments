{
 "cells": [
  {
   "cell_type": "code",
   "execution_count": 1,
   "metadata": {
    "collapsed": true
   },
   "outputs": [],
   "source": [
    "# Install packages for processing data\n",
    "import urllib2\n",
    "import json\n",
    "import time"
   ]
  },
  {
   "cell_type": "code",
   "execution_count": 2,
   "metadata": {
    "collapsed": true
   },
   "outputs": [],
   "source": [
    "hdr = {'User-Agent': 'r/relationships test 13 16112015 by /u/PopularCactus'}\n",
    "url = 'https://www.reddit.com/r/relationships/top/.json?sort=top&t=all&limit=100'\n",
    "req = urllib2.Request(url, headers=hdr)\n",
    "text_data = urllib2.urlopen(req).read()\n",
    "data = json.loads(text_data)\n",
    "data_all = data.values()[1]['children']\n",
    "\n",
    "for i in range(1, 10):\n",
    "    time.sleep(5)\n",
    "    last = data_all[-1]['data']['name']\n",
    "    url = 'https://www.reddit.com/r/relationships/top/.json?sort=top&t=all&limit=100&after=%s' % last\n",
    "    req = urllib2.Request(url, headers=hdr)\n",
    "    text_data = urllib2.urlopen(req).read()\n",
    "    data = json.loads(text_data)\n",
    "    data_all += data.values()[1]['children']"
   ]
  },
  {
   "cell_type": "code",
   "execution_count": 3,
   "metadata": {
    "collapsed": false
   },
   "outputs": [],
   "source": [
    "# Extract relevant data\n",
    "article_title = []\n",
    "article_flairs = []\n",
    "article_date = []\n",
    "article_comments = []\n",
    "article_score = []\n",
    "\n",
    "for i in range(0, len(data_all)):\n",
    "    article_title.append(data_all[i]['data']['title'])\n",
    "    article_flairs.append(data_all[i]['data']['link_flair_text'])\n",
    "    article_date.append(data_all[i]['data']['created_utc'])\n",
    "    article_comments.append(data_all[i]['data']['num_comments'])\n",
    "    article_score.append(data_all[i]['data']['score'])"
   ]
  },
  {
   "cell_type": "code",
   "execution_count": 4,
   "metadata": {
    "collapsed": false
   },
   "outputs": [
    {
     "data": {
      "text/html": [
       "<div>\n",
       "<table border=\"1\" class=\"dataframe\">\n",
       "  <thead>\n",
       "    <tr style=\"text-align: right;\">\n",
       "      <th></th>\n",
       "      <th>Comments</th>\n",
       "      <th>Date</th>\n",
       "      <th>Flair</th>\n",
       "      <th>Score</th>\n",
       "      <th>Title</th>\n",
       "    </tr>\n",
       "  </thead>\n",
       "  <tbody>\n",
       "    <tr>\n",
       "      <th>0</th>\n",
       "      <td>901</td>\n",
       "      <td>1440187622</td>\n",
       "      <td>Updates</td>\n",
       "      <td>7677</td>\n",
       "      <td>[UPDATE]My [26 F] with my husband [29 M] 1 yea...</td>\n",
       "    </tr>\n",
       "    <tr>\n",
       "      <th>1</th>\n",
       "      <td>631</td>\n",
       "      <td>1438962646</td>\n",
       "      <td>◉ Locked Post ◉</td>\n",
       "      <td>5989</td>\n",
       "      <td>Update: I [30 F] am sitting in the back of my ...</td>\n",
       "    </tr>\n",
       "    <tr>\n",
       "      <th>2</th>\n",
       "      <td>622</td>\n",
       "      <td>1435026034</td>\n",
       "      <td>Updates</td>\n",
       "      <td>5484</td>\n",
       "      <td>UPDATE: My fiancee (24F) has no bridesmaids an...</td>\n",
       "    </tr>\n",
       "    <tr>\n",
       "      <th>3</th>\n",
       "      <td>973</td>\n",
       "      <td>1438393090</td>\n",
       "      <td>◉ Locked Post ◉</td>\n",
       "      <td>5269</td>\n",
       "      <td>My [42M] daughter [17F] has been bullying a gi...</td>\n",
       "    </tr>\n",
       "    <tr>\n",
       "      <th>4</th>\n",
       "      <td>769</td>\n",
       "      <td>1440543117</td>\n",
       "      <td>Updates</td>\n",
       "      <td>5170</td>\n",
       "      <td>[Update] My [26F] fiance's [28M] ex-wife [28F]...</td>\n",
       "    </tr>\n",
       "    <tr>\n",
       "      <th>5</th>\n",
       "      <td>515</td>\n",
       "      <td>1441197058</td>\n",
       "      <td>◉ Locked Post ◉</td>\n",
       "      <td>5084</td>\n",
       "      <td>Me [42F] with my son [15M] - should I have a t...</td>\n",
       "    </tr>\n",
       "    <tr>\n",
       "      <th>6</th>\n",
       "      <td>428</td>\n",
       "      <td>1424393866</td>\n",
       "      <td>Updates</td>\n",
       "      <td>4763</td>\n",
       "      <td>UPDATE: Me [23 M] with my Fiance [24 F] of 3 y...</td>\n",
       "    </tr>\n",
       "    <tr>\n",
       "      <th>7</th>\n",
       "      <td>161</td>\n",
       "      <td>1440341283</td>\n",
       "      <td>Updates</td>\n",
       "      <td>4710</td>\n",
       "      <td>UPDATE Me [26F] with my mother [49F] Who wants...</td>\n",
       "    </tr>\n",
       "    <tr>\n",
       "      <th>8</th>\n",
       "      <td>289</td>\n",
       "      <td>1437926061</td>\n",
       "      <td>Updates</td>\n",
       "      <td>4574</td>\n",
       "      <td>(update)I(30m) just found out my girlfriend(28...</td>\n",
       "    </tr>\n",
       "    <tr>\n",
       "      <th>9</th>\n",
       "      <td>618</td>\n",
       "      <td>1417909818</td>\n",
       "      <td>Infidelity</td>\n",
       "      <td>4494</td>\n",
       "      <td>[UPDATE 2] I [22M] suspect something between m...</td>\n",
       "    </tr>\n",
       "  </tbody>\n",
       "</table>\n",
       "</div>"
      ],
      "text/plain": [
       "   Comments        Date            Flair  Score  \\\n",
       "0       901  1440187622          Updates   7677   \n",
       "1       631  1438962646  ◉ Locked Post ◉   5989   \n",
       "2       622  1435026034          Updates   5484   \n",
       "3       973  1438393090  ◉ Locked Post ◉   5269   \n",
       "4       769  1440543117          Updates   5170   \n",
       "5       515  1441197058  ◉ Locked Post ◉   5084   \n",
       "6       428  1424393866          Updates   4763   \n",
       "7       161  1440341283          Updates   4710   \n",
       "8       289  1437926061          Updates   4574   \n",
       "9       618  1417909818       Infidelity   4494   \n",
       "\n",
       "                                               Title  \n",
       "0  [UPDATE]My [26 F] with my husband [29 M] 1 yea...  \n",
       "1  Update: I [30 F] am sitting in the back of my ...  \n",
       "2  UPDATE: My fiancee (24F) has no bridesmaids an...  \n",
       "3  My [42M] daughter [17F] has been bullying a gi...  \n",
       "4  [Update] My [26F] fiance's [28M] ex-wife [28F]...  \n",
       "5  Me [42F] with my son [15M] - should I have a t...  \n",
       "6  UPDATE: Me [23 M] with my Fiance [24 F] of 3 y...  \n",
       "7  UPDATE Me [26F] with my mother [49F] Who wants...  \n",
       "8  (update)I(30m) just found out my girlfriend(28...  \n",
       "9  [UPDATE 2] I [22M] suspect something between m...  "
      ]
     },
     "execution_count": 4,
     "metadata": {},
     "output_type": "execute_result"
    }
   ],
   "source": [
    "# Create DataFrame\n",
    "import numpy as np\n",
    "from pandas import Series, DataFrame\n",
    "import pandas as pd\n",
    "import re\n",
    "\n",
    "rel_df = DataFrame({'Title': article_title,\n",
    "                    'Flair': article_flairs,\n",
    "                    'Date': article_date,\n",
    "                    'Comments': article_comments,\n",
    "                    'Score': article_score})\n",
    "\n",
    "rel_df[:10]"
   ]
  },
  {
   "cell_type": "code",
   "execution_count": 5,
   "metadata": {
    "collapsed": false
   },
   "outputs": [
    {
     "data": {
      "text/html": [
       "<div>\n",
       "<table border=\"1\" class=\"dataframe\">\n",
       "  <thead>\n",
       "    <tr style=\"text-align: right;\">\n",
       "      <th></th>\n",
       "      <th>Comments</th>\n",
       "      <th>Date</th>\n",
       "      <th>Flair</th>\n",
       "      <th>Score</th>\n",
       "      <th>Title</th>\n",
       "    </tr>\n",
       "  </thead>\n",
       "  <tbody>\n",
       "    <tr>\n",
       "      <th>0</th>\n",
       "      <td>901</td>\n",
       "      <td>2015-08-21 20:07:02</td>\n",
       "      <td>Updates</td>\n",
       "      <td>7677</td>\n",
       "      <td>[UPDATE]My [26 F] with my husband [29 M] 1 yea...</td>\n",
       "    </tr>\n",
       "    <tr>\n",
       "      <th>1</th>\n",
       "      <td>631</td>\n",
       "      <td>2015-08-07 15:50:46</td>\n",
       "      <td>◉ Locked Post ◉</td>\n",
       "      <td>5989</td>\n",
       "      <td>Update: I [30 F] am sitting in the back of my ...</td>\n",
       "    </tr>\n",
       "    <tr>\n",
       "      <th>2</th>\n",
       "      <td>622</td>\n",
       "      <td>2015-06-23 02:20:34</td>\n",
       "      <td>Updates</td>\n",
       "      <td>5484</td>\n",
       "      <td>UPDATE: My fiancee (24F) has no bridesmaids an...</td>\n",
       "    </tr>\n",
       "    <tr>\n",
       "      <th>3</th>\n",
       "      <td>973</td>\n",
       "      <td>2015-08-01 01:38:10</td>\n",
       "      <td>◉ Locked Post ◉</td>\n",
       "      <td>5269</td>\n",
       "      <td>My [42M] daughter [17F] has been bullying a gi...</td>\n",
       "    </tr>\n",
       "    <tr>\n",
       "      <th>4</th>\n",
       "      <td>769</td>\n",
       "      <td>2015-08-25 22:51:57</td>\n",
       "      <td>Updates</td>\n",
       "      <td>5170</td>\n",
       "      <td>[Update] My [26F] fiance's [28M] ex-wife [28F]...</td>\n",
       "    </tr>\n",
       "    <tr>\n",
       "      <th>5</th>\n",
       "      <td>515</td>\n",
       "      <td>2015-09-02 12:30:58</td>\n",
       "      <td>◉ Locked Post ◉</td>\n",
       "      <td>5084</td>\n",
       "      <td>Me [42F] with my son [15M] - should I have a t...</td>\n",
       "    </tr>\n",
       "    <tr>\n",
       "      <th>6</th>\n",
       "      <td>428</td>\n",
       "      <td>2015-02-20 00:57:46</td>\n",
       "      <td>Updates</td>\n",
       "      <td>4763</td>\n",
       "      <td>UPDATE: Me [23 M] with my Fiance [24 F] of 3 y...</td>\n",
       "    </tr>\n",
       "    <tr>\n",
       "      <th>7</th>\n",
       "      <td>161</td>\n",
       "      <td>2015-08-23 14:48:03</td>\n",
       "      <td>Updates</td>\n",
       "      <td>4710</td>\n",
       "      <td>UPDATE Me [26F] with my mother [49F] Who wants...</td>\n",
       "    </tr>\n",
       "    <tr>\n",
       "      <th>8</th>\n",
       "      <td>289</td>\n",
       "      <td>2015-07-26 15:54:21</td>\n",
       "      <td>Updates</td>\n",
       "      <td>4574</td>\n",
       "      <td>(update)I(30m) just found out my girlfriend(28...</td>\n",
       "    </tr>\n",
       "    <tr>\n",
       "      <th>9</th>\n",
       "      <td>618</td>\n",
       "      <td>2014-12-06 23:50:18</td>\n",
       "      <td>Infidelity</td>\n",
       "      <td>4494</td>\n",
       "      <td>[UPDATE 2] I [22M] suspect something between m...</td>\n",
       "    </tr>\n",
       "  </tbody>\n",
       "</table>\n",
       "</div>"
      ],
      "text/plain": [
       "   Comments                Date            Flair  Score  \\\n",
       "0       901 2015-08-21 20:07:02          Updates   7677   \n",
       "1       631 2015-08-07 15:50:46  ◉ Locked Post ◉   5989   \n",
       "2       622 2015-06-23 02:20:34          Updates   5484   \n",
       "3       973 2015-08-01 01:38:10  ◉ Locked Post ◉   5269   \n",
       "4       769 2015-08-25 22:51:57          Updates   5170   \n",
       "5       515 2015-09-02 12:30:58  ◉ Locked Post ◉   5084   \n",
       "6       428 2015-02-20 00:57:46          Updates   4763   \n",
       "7       161 2015-08-23 14:48:03          Updates   4710   \n",
       "8       289 2015-07-26 15:54:21          Updates   4574   \n",
       "9       618 2014-12-06 23:50:18       Infidelity   4494   \n",
       "\n",
       "                                               Title  \n",
       "0  [UPDATE]My [26 F] with my husband [29 M] 1 yea...  \n",
       "1  Update: I [30 F] am sitting in the back of my ...  \n",
       "2  UPDATE: My fiancee (24F) has no bridesmaids an...  \n",
       "3  My [42M] daughter [17F] has been bullying a gi...  \n",
       "4  [Update] My [26F] fiance's [28M] ex-wife [28F]...  \n",
       "5  Me [42F] with my son [15M] - should I have a t...  \n",
       "6  UPDATE: Me [23 M] with my Fiance [24 F] of 3 y...  \n",
       "7  UPDATE Me [26F] with my mother [49F] Who wants...  \n",
       "8  (update)I(30m) just found out my girlfriend(28...  \n",
       "9  [UPDATE 2] I [22M] suspect something between m...  "
      ]
     },
     "execution_count": 5,
     "metadata": {},
     "output_type": "execute_result"
    }
   ],
   "source": [
    "# Format date\n",
    "rel_df['Date'] = pd.to_datetime((rel_df['Date'].values*1e9).astype(int))\n",
    "rel_df[:10]"
   ]
  },
  {
   "cell_type": "code",
   "execution_count": 6,
   "metadata": {
    "collapsed": false
   },
   "outputs": [
    {
     "data": {
      "text/html": [
       "<div>\n",
       "<table border=\"1\" class=\"dataframe\">\n",
       "  <thead>\n",
       "    <tr style=\"text-align: right;\">\n",
       "      <th></th>\n",
       "      <th>Comments</th>\n",
       "      <th>Date</th>\n",
       "      <th>Flair</th>\n",
       "      <th>Score</th>\n",
       "      <th>Title</th>\n",
       "    </tr>\n",
       "  </thead>\n",
       "  <tbody>\n",
       "    <tr>\n",
       "      <th>0</th>\n",
       "      <td>901</td>\n",
       "      <td>2015-08-21 20:07:02</td>\n",
       "      <td>Updates</td>\n",
       "      <td>7677</td>\n",
       "      <td>[UPDATE]My [26 F] with my husband [29 M] 1 yea...</td>\n",
       "    </tr>\n",
       "    <tr>\n",
       "      <th>1</th>\n",
       "      <td>631</td>\n",
       "      <td>2015-08-07 15:50:46</td>\n",
       "      <td>Updates</td>\n",
       "      <td>5989</td>\n",
       "      <td>Update: I [30 F] am sitting in the back of my ...</td>\n",
       "    </tr>\n",
       "    <tr>\n",
       "      <th>2</th>\n",
       "      <td>622</td>\n",
       "      <td>2015-06-23 02:20:34</td>\n",
       "      <td>Updates</td>\n",
       "      <td>5484</td>\n",
       "      <td>UPDATE: My fiancee (24F) has no bridesmaids an...</td>\n",
       "    </tr>\n",
       "    <tr>\n",
       "      <th>3</th>\n",
       "      <td>973</td>\n",
       "      <td>2015-08-01 01:38:10</td>\n",
       "      <td>NaN</td>\n",
       "      <td>5269</td>\n",
       "      <td>My [42M] daughter [17F] has been bullying a gi...</td>\n",
       "    </tr>\n",
       "    <tr>\n",
       "      <th>4</th>\n",
       "      <td>769</td>\n",
       "      <td>2015-08-25 22:51:57</td>\n",
       "      <td>Updates</td>\n",
       "      <td>5170</td>\n",
       "      <td>[Update] My [26F] fiance's [28M] ex-wife [28F]...</td>\n",
       "    </tr>\n",
       "    <tr>\n",
       "      <th>5</th>\n",
       "      <td>515</td>\n",
       "      <td>2015-09-02 12:30:58</td>\n",
       "      <td>NaN</td>\n",
       "      <td>5084</td>\n",
       "      <td>Me [42F] with my son [15M] - should I have a t...</td>\n",
       "    </tr>\n",
       "    <tr>\n",
       "      <th>6</th>\n",
       "      <td>428</td>\n",
       "      <td>2015-02-20 00:57:46</td>\n",
       "      <td>Updates</td>\n",
       "      <td>4763</td>\n",
       "      <td>UPDATE: Me [23 M] with my Fiance [24 F] of 3 y...</td>\n",
       "    </tr>\n",
       "    <tr>\n",
       "      <th>7</th>\n",
       "      <td>161</td>\n",
       "      <td>2015-08-23 14:48:03</td>\n",
       "      <td>Updates</td>\n",
       "      <td>4710</td>\n",
       "      <td>UPDATE Me [26F] with my mother [49F] Who wants...</td>\n",
       "    </tr>\n",
       "    <tr>\n",
       "      <th>8</th>\n",
       "      <td>289</td>\n",
       "      <td>2015-07-26 15:54:21</td>\n",
       "      <td>Updates</td>\n",
       "      <td>4574</td>\n",
       "      <td>(update)I(30m) just found out my girlfriend(28...</td>\n",
       "    </tr>\n",
       "    <tr>\n",
       "      <th>9</th>\n",
       "      <td>618</td>\n",
       "      <td>2014-12-06 23:50:18</td>\n",
       "      <td>Infidelity</td>\n",
       "      <td>4494</td>\n",
       "      <td>[UPDATE 2] I [22M] suspect something between m...</td>\n",
       "    </tr>\n",
       "  </tbody>\n",
       "</table>\n",
       "</div>"
      ],
      "text/plain": [
       "   Comments                Date       Flair  Score  \\\n",
       "0       901 2015-08-21 20:07:02     Updates   7677   \n",
       "1       631 2015-08-07 15:50:46     Updates   5989   \n",
       "2       622 2015-06-23 02:20:34     Updates   5484   \n",
       "3       973 2015-08-01 01:38:10         NaN   5269   \n",
       "4       769 2015-08-25 22:51:57     Updates   5170   \n",
       "5       515 2015-09-02 12:30:58         NaN   5084   \n",
       "6       428 2015-02-20 00:57:46     Updates   4763   \n",
       "7       161 2015-08-23 14:48:03     Updates   4710   \n",
       "8       289 2015-07-26 15:54:21     Updates   4574   \n",
       "9       618 2014-12-06 23:50:18  Infidelity   4494   \n",
       "\n",
       "                                               Title  \n",
       "0  [UPDATE]My [26 F] with my husband [29 M] 1 yea...  \n",
       "1  Update: I [30 F] am sitting in the back of my ...  \n",
       "2  UPDATE: My fiancee (24F) has no bridesmaids an...  \n",
       "3  My [42M] daughter [17F] has been bullying a gi...  \n",
       "4  [Update] My [26F] fiance's [28M] ex-wife [28F]...  \n",
       "5  Me [42F] with my son [15M] - should I have a t...  \n",
       "6  UPDATE: Me [23 M] with my Fiance [24 F] of 3 y...  \n",
       "7  UPDATE Me [26F] with my mother [49F] Who wants...  \n",
       "8  (update)I(30m) just found out my girlfriend(28...  \n",
       "9  [UPDATE 2] I [22M] suspect something between m...  "
      ]
     },
     "execution_count": 6,
     "metadata": {},
     "output_type": "execute_result"
    }
   ],
   "source": [
    "# Replace 'Locked Post' with update where appropriate\n",
    "replace_value = rel_df['Flair'][1]\n",
    "rel_df['Flair'] = rel_df['Flair'].replace(replace_value, np.nan)\n",
    "\n",
    "cond1 = rel_df['Title'].str.contains(\n",
    "    '^\\[?[a-z!?A-Z ]*UPDATE\\]?:?', flags = re.IGNORECASE)\n",
    "cond2 = rel_df['Flair'].isnull()\n",
    "\n",
    "rel_df.loc[(cond1 & cond2), 'Flair'] = rel_df.loc[(cond1 & cond2), 'Flair'].replace(np.nan, 'Updates')\n",
    "rel_df[:10]"
   ]
  },
  {
   "cell_type": "code",
   "execution_count": 7,
   "metadata": {
    "collapsed": false
   },
   "outputs": [
    {
     "data": {
      "text/plain": [
       "93"
      ]
     },
     "execution_count": 7,
     "metadata": {},
     "output_type": "execute_result"
    }
   ],
   "source": [
    "# Calculate number of still missing flairs\n",
    "rel_df['Flair'].isnull().sum()"
   ]
  },
  {
   "cell_type": "code",
   "execution_count": 8,
   "metadata": {
    "collapsed": true
   },
   "outputs": [],
   "source": [
    "# Extract poster age and sex\n",
    "poster_age_sex = rel_df['Title'].str.extract(\n",
    "    \"((i\\'m|i|my|me)\\s?(\\[|\\()(m|f)?(\\s|/)?[0-9]{1,2}(\\s|/)?([m,f]|male|female)?(\\]|\\)))\", \n",
    "        flags = re.IGNORECASE)[0]"
   ]
  },
  {
   "cell_type": "code",
   "execution_count": 9,
   "metadata": {
    "collapsed": false
   },
   "outputs": [],
   "source": [
    "poster_age_sex = poster_age_sex.str.replace(\"((i\\'m|i|my|me))\\s?\", \"\", flags = re.IGNORECASE)\n",
    "poster_age = poster_age_sex.str.extract('([0-9]{1,2})')\n",
    "poster_sex = poster_age_sex.str.extract('([m,f])', flags = re.IGNORECASE)\n",
    "\n",
    "rel_df['PosterAge'] = pd.to_numeric(poster_age)\n",
    "rel_df['PosterSex'] = poster_sex.str.upper()"
   ]
  },
  {
   "cell_type": "code",
   "execution_count": 10,
   "metadata": {
    "collapsed": false
   },
   "outputs": [
    {
     "data": {
      "text/html": [
       "<div>\n",
       "<table border=\"1\" class=\"dataframe\">\n",
       "  <thead>\n",
       "    <tr style=\"text-align: right;\">\n",
       "      <th></th>\n",
       "      <th>Comments</th>\n",
       "      <th>Date</th>\n",
       "      <th>Flair</th>\n",
       "      <th>Score</th>\n",
       "      <th>Title</th>\n",
       "      <th>PosterAge</th>\n",
       "      <th>PosterSex</th>\n",
       "    </tr>\n",
       "  </thead>\n",
       "  <tbody>\n",
       "    <tr>\n",
       "      <th>0</th>\n",
       "      <td>901</td>\n",
       "      <td>2015-08-21 20:07:02</td>\n",
       "      <td>Updates</td>\n",
       "      <td>7677</td>\n",
       "      <td>[UPDATE]My [26 F] with my husband [29 M] 1 yea...</td>\n",
       "      <td>26</td>\n",
       "      <td>F</td>\n",
       "    </tr>\n",
       "    <tr>\n",
       "      <th>1</th>\n",
       "      <td>631</td>\n",
       "      <td>2015-08-07 15:50:46</td>\n",
       "      <td>Updates</td>\n",
       "      <td>5989</td>\n",
       "      <td>Update: I [30 F] am sitting in the back of my ...</td>\n",
       "      <td>30</td>\n",
       "      <td>F</td>\n",
       "    </tr>\n",
       "    <tr>\n",
       "      <th>2</th>\n",
       "      <td>622</td>\n",
       "      <td>2015-06-23 02:20:34</td>\n",
       "      <td>Updates</td>\n",
       "      <td>5484</td>\n",
       "      <td>UPDATE: My fiancee (24F) has no bridesmaids an...</td>\n",
       "      <td>25</td>\n",
       "      <td>M</td>\n",
       "    </tr>\n",
       "    <tr>\n",
       "      <th>3</th>\n",
       "      <td>973</td>\n",
       "      <td>2015-08-01 01:38:10</td>\n",
       "      <td>NaN</td>\n",
       "      <td>5269</td>\n",
       "      <td>My [42M] daughter [17F] has been bullying a gi...</td>\n",
       "      <td>42</td>\n",
       "      <td>M</td>\n",
       "    </tr>\n",
       "    <tr>\n",
       "      <th>4</th>\n",
       "      <td>769</td>\n",
       "      <td>2015-08-25 22:51:57</td>\n",
       "      <td>Updates</td>\n",
       "      <td>5170</td>\n",
       "      <td>[Update] My [26F] fiance's [28M] ex-wife [28F]...</td>\n",
       "      <td>26</td>\n",
       "      <td>F</td>\n",
       "    </tr>\n",
       "    <tr>\n",
       "      <th>5</th>\n",
       "      <td>515</td>\n",
       "      <td>2015-09-02 12:30:58</td>\n",
       "      <td>NaN</td>\n",
       "      <td>5084</td>\n",
       "      <td>Me [42F] with my son [15M] - should I have a t...</td>\n",
       "      <td>42</td>\n",
       "      <td>F</td>\n",
       "    </tr>\n",
       "    <tr>\n",
       "      <th>6</th>\n",
       "      <td>428</td>\n",
       "      <td>2015-02-20 00:57:46</td>\n",
       "      <td>Updates</td>\n",
       "      <td>4763</td>\n",
       "      <td>UPDATE: Me [23 M] with my Fiance [24 F] of 3 y...</td>\n",
       "      <td>23</td>\n",
       "      <td>M</td>\n",
       "    </tr>\n",
       "    <tr>\n",
       "      <th>7</th>\n",
       "      <td>161</td>\n",
       "      <td>2015-08-23 14:48:03</td>\n",
       "      <td>Updates</td>\n",
       "      <td>4710</td>\n",
       "      <td>UPDATE Me [26F] with my mother [49F] Who wants...</td>\n",
       "      <td>26</td>\n",
       "      <td>F</td>\n",
       "    </tr>\n",
       "    <tr>\n",
       "      <th>8</th>\n",
       "      <td>289</td>\n",
       "      <td>2015-07-26 15:54:21</td>\n",
       "      <td>Updates</td>\n",
       "      <td>4574</td>\n",
       "      <td>(update)I(30m) just found out my girlfriend(28...</td>\n",
       "      <td>30</td>\n",
       "      <td>M</td>\n",
       "    </tr>\n",
       "    <tr>\n",
       "      <th>9</th>\n",
       "      <td>618</td>\n",
       "      <td>2014-12-06 23:50:18</td>\n",
       "      <td>Infidelity</td>\n",
       "      <td>4494</td>\n",
       "      <td>[UPDATE 2] I [22M] suspect something between m...</td>\n",
       "      <td>22</td>\n",
       "      <td>M</td>\n",
       "    </tr>\n",
       "  </tbody>\n",
       "</table>\n",
       "</div>"
      ],
      "text/plain": [
       "   Comments                Date       Flair  Score  \\\n",
       "0       901 2015-08-21 20:07:02     Updates   7677   \n",
       "1       631 2015-08-07 15:50:46     Updates   5989   \n",
       "2       622 2015-06-23 02:20:34     Updates   5484   \n",
       "3       973 2015-08-01 01:38:10         NaN   5269   \n",
       "4       769 2015-08-25 22:51:57     Updates   5170   \n",
       "5       515 2015-09-02 12:30:58         NaN   5084   \n",
       "6       428 2015-02-20 00:57:46     Updates   4763   \n",
       "7       161 2015-08-23 14:48:03     Updates   4710   \n",
       "8       289 2015-07-26 15:54:21     Updates   4574   \n",
       "9       618 2014-12-06 23:50:18  Infidelity   4494   \n",
       "\n",
       "                                               Title  PosterAge PosterSex  \n",
       "0  [UPDATE]My [26 F] with my husband [29 M] 1 yea...         26         F  \n",
       "1  Update: I [30 F] am sitting in the back of my ...         30         F  \n",
       "2  UPDATE: My fiancee (24F) has no bridesmaids an...         25         M  \n",
       "3  My [42M] daughter [17F] has been bullying a gi...         42         M  \n",
       "4  [Update] My [26F] fiance's [28M] ex-wife [28F]...         26         F  \n",
       "5  Me [42F] with my son [15M] - should I have a t...         42         F  \n",
       "6  UPDATE: Me [23 M] with my Fiance [24 F] of 3 y...         23         M  \n",
       "7  UPDATE Me [26F] with my mother [49F] Who wants...         26         F  \n",
       "8  (update)I(30m) just found out my girlfriend(28...         30         M  \n",
       "9  [UPDATE 2] I [22M] suspect something between m...         22         M  "
      ]
     },
     "execution_count": 10,
     "metadata": {},
     "output_type": "execute_result"
    }
   ],
   "source": [
    "rel_df[:10]"
   ]
  },
  {
   "cell_type": "code",
   "execution_count": 11,
   "metadata": {
    "collapsed": false
   },
   "outputs": [
    {
     "data": {
      "text/plain": [
       "92"
      ]
     },
     "execution_count": 11,
     "metadata": {},
     "output_type": "execute_result"
    }
   ],
   "source": [
    "# Number with missing age\n",
    "rel_df['PosterAge'].isnull().sum()"
   ]
  },
  {
   "cell_type": "code",
   "execution_count": 12,
   "metadata": {
    "collapsed": false
   },
   "outputs": [
    {
     "data": {
      "text/plain": [
       "105"
      ]
     },
     "execution_count": 12,
     "metadata": {},
     "output_type": "execute_result"
    }
   ],
   "source": [
    "# Number with missing sex\n",
    "rel_df['PosterSex'].isnull().sum()"
   ]
  },
  {
   "cell_type": "code",
   "execution_count": 13,
   "metadata": {
    "collapsed": false
   },
   "outputs": [
    {
     "data": {
      "text/plain": [
       "count    908.000000\n",
       "mean      26.650881\n",
       "std        6.313767\n",
       "min       13.000000\n",
       "25%       23.000000\n",
       "50%       26.000000\n",
       "75%       29.000000\n",
       "max       57.000000\n",
       "Name: PosterAge, dtype: float64"
      ]
     },
     "execution_count": 13,
     "metadata": {},
     "output_type": "execute_result"
    }
   ],
   "source": [
    "# Getting summary stats\n",
    "# Age\n",
    "rel_df['PosterAge'].describe()"
   ]
  },
  {
   "cell_type": "code",
   "execution_count": 14,
   "metadata": {
    "collapsed": false
   },
   "outputs": [
    {
     "data": {
      "text/plain": [
       "F    535\n",
       "M    360\n",
       "Name: PosterSex, dtype: int64"
      ]
     },
     "execution_count": 14,
     "metadata": {},
     "output_type": "execute_result"
    }
   ],
   "source": [
    "# Age\n",
    "rel_df['PosterSex'].value_counts()"
   ]
  },
  {
   "cell_type": "code",
   "execution_count": 15,
   "metadata": {
    "collapsed": false
   },
   "outputs": [
    {
     "data": {
      "text/plain": [
       "Updates            512\n",
       "Relationships      167\n",
       "Non-Romantic       157\n",
       "Infidelity          39\n",
       "Breakups            15\n",
       "Personal issues     12\n",
       "Dating               5\n",
       "Name: Flair, dtype: int64"
      ]
     },
     "execution_count": 15,
     "metadata": {},
     "output_type": "execute_result"
    }
   ],
   "source": [
    "rel_df['Flair'].value_counts()"
   ]
  },
  {
   "cell_type": "code",
   "execution_count": 16,
   "metadata": {
    "collapsed": false
   },
   "outputs": [
    {
     "data": {
      "text/plain": [
       "count    1000.000000\n",
       "mean      318.022000\n",
       "std       219.252802\n",
       "min        15.000000\n",
       "25%       160.750000\n",
       "50%       269.000000\n",
       "75%       416.250000\n",
       "max      1699.000000\n",
       "Name: Comments, dtype: float64"
      ]
     },
     "execution_count": 16,
     "metadata": {},
     "output_type": "execute_result"
    }
   ],
   "source": [
    "rel_df['Comments'].describe()"
   ]
  },
  {
   "cell_type": "code",
   "execution_count": 17,
   "metadata": {
    "collapsed": false
   },
   "outputs": [
    {
     "data": {
      "text/plain": [
       "count    1000.000000\n",
       "mean     1461.108000\n",
       "std       812.214392\n",
       "min       752.000000\n",
       "25%       924.000000\n",
       "50%      1192.000000\n",
       "75%      1717.000000\n",
       "max      7677.000000\n",
       "Name: Score, dtype: float64"
      ]
     },
     "execution_count": 17,
     "metadata": {},
     "output_type": "execute_result"
    }
   ],
   "source": [
    "rel_df['Score'].describe()"
   ]
  },
  {
   "cell_type": "code",
   "execution_count": 18,
   "metadata": {
    "collapsed": false
   },
   "outputs": [
    {
     "data": {
      "text/plain": [
       "Flair\n",
       "Breakups           27.416667\n",
       "Dating             26.500000\n",
       "Infidelity         26.352941\n",
       "Non-Romantic       26.630872\n",
       "Personal issues    23.333333\n",
       "Relationships      27.564103\n",
       "Updates            26.279826\n",
       "Name: PosterAge, dtype: float64"
      ]
     },
     "execution_count": 18,
     "metadata": {},
     "output_type": "execute_result"
    }
   ],
   "source": [
    "rel_df['PosterAge'].groupby([rel_df['Flair']]).mean()"
   ]
  },
  {
   "cell_type": "code",
   "execution_count": 19,
   "metadata": {
    "collapsed": false
   },
   "outputs": [
    {
     "data": {
      "text/plain": [
       "PosterSex\n",
       "F    26.136449\n",
       "M    27.413889\n",
       "Name: PosterAge, dtype: float64"
      ]
     },
     "execution_count": 19,
     "metadata": {},
     "output_type": "execute_result"
    }
   ],
   "source": [
    "rel_df['PosterAge'].groupby([rel_df['PosterSex']]).mean()"
   ]
  },
  {
   "cell_type": "code",
   "execution_count": 20,
   "metadata": {
    "collapsed": false
   },
   "outputs": [
    {
     "data": {
      "text/plain": [
       "PosterSex\n",
       "F    1148.0\n",
       "M    1244.5\n",
       "Name: Score, dtype: float64"
      ]
     },
     "execution_count": 20,
     "metadata": {},
     "output_type": "execute_result"
    }
   ],
   "source": [
    "rel_df['Score'].groupby([rel_df['PosterSex']]).median()"
   ]
  },
  {
   "cell_type": "code",
   "execution_count": 21,
   "metadata": {
    "collapsed": false
   },
   "outputs": [
    {
     "data": {
      "text/plain": [
       "PosterSex\n",
       "F    266.0\n",
       "M    282.5\n",
       "Name: Comments, dtype: float64"
      ]
     },
     "execution_count": 21,
     "metadata": {},
     "output_type": "execute_result"
    }
   ],
   "source": [
    "rel_df['Comments'].groupby([rel_df['PosterSex']]).median()"
   ]
  },
  {
   "cell_type": "code",
   "execution_count": 22,
   "metadata": {
    "collapsed": false
   },
   "outputs": [
    {
     "data": {
      "text/plain": [
       "Flair\n",
       "Breakups           1081.0\n",
       "Dating              915.0\n",
       "Infidelity         1144.0\n",
       "Non-Romantic       1100.0\n",
       "Personal issues    1270.5\n",
       "Relationships      1101.0\n",
       "Updates            1253.0\n",
       "Name: Score, dtype: float64"
      ]
     },
     "execution_count": 22,
     "metadata": {},
     "output_type": "execute_result"
    }
   ],
   "source": [
    "rel_df['Score'].groupby([rel_df['Flair']]).median()"
   ]
  },
  {
   "cell_type": "code",
   "execution_count": 23,
   "metadata": {
    "collapsed": false
   },
   "outputs": [
    {
     "data": {
      "text/plain": [
       "Flair\n",
       "Breakups           344\n",
       "Dating             501\n",
       "Infidelity         319\n",
       "Non-Romantic       318\n",
       "Personal issues    308\n",
       "Relationships      395\n",
       "Updates            194\n",
       "Name: Comments, dtype: int64"
      ]
     },
     "execution_count": 23,
     "metadata": {},
     "output_type": "execute_result"
    }
   ],
   "source": [
    "rel_df['Comments'].groupby([rel_df['Flair']]).median()"
   ]
  },
  {
   "cell_type": "code",
   "execution_count": 24,
   "metadata": {
    "collapsed": false
   },
   "outputs": [
    {
     "data": {
      "text/plain": [
       "<matplotlib.axes._subplots.AxesSubplot at 0x1091412d0>"
      ]
     },
     "execution_count": 24,
     "metadata": {},
     "output_type": "execute_result"
    },
    {
     "data": {
      "image/png": "[encoded data removed]",
      "text/plain": [
       "<matplotlib.figure.Figure at 0x1088b6110>"
      ]
     },
     "metadata": {},
     "output_type": "display_data"
    }
   ],
   "source": [
    "import matplotlib as plt\n",
    "%matplotlib inline\n",
    "rel_df['Score'].hist(bins = 50) "
   ]
  },
  {
   "cell_type": "code",
   "execution_count": 25,
   "metadata": {
    "collapsed": false
   },
   "outputs": [
    {
     "data": {
      "text/plain": [
       "<matplotlib.axes._subplots.AxesSubplot at 0x108893790>"
      ]
     },
     "execution_count": 25,
     "metadata": {},
     "output_type": "execute_result"
    },
    {
     "data": {
      "image/png": "[encoded data removed]",
      "text/plain": [
       "<matplotlib.figure.Figure at 0x109316250>"
      ]
     },
     "metadata": {},
     "output_type": "display_data"
    }
   ],
   "source": [
    "rel_df['Comments'].hist(bins = 50) "
   ]
  },
  {
   "cell_type": "code",
   "execution_count": 26,
   "metadata": {
    "collapsed": false
   },
   "outputs": [
    {
     "data": {
      "text/plain": [
       "2.362979240631089"
      ]
     },
     "execution_count": 26,
     "metadata": {},
     "output_type": "execute_result"
    }
   ],
   "source": [
    "rel_df['Score'].skew()"
   ]
  },
  {
   "cell_type": "code",
   "execution_count": 27,
   "metadata": {
    "collapsed": false
   },
   "outputs": [
    {
     "data": {
      "text/plain": [
       "0.016746263961645289"
      ]
     },
     "execution_count": 27,
     "metadata": {},
     "output_type": "execute_result"
    }
   ],
   "source": [
    "rel_df['Score'].corr(rel_df['PosterAge'])"
   ]
  },
  {
   "cell_type": "code",
   "execution_count": 28,
   "metadata": {
    "collapsed": false
   },
   "outputs": [
    {
     "data": {
      "text/plain": [
       "0.026994587284630306"
      ]
     },
     "execution_count": 28,
     "metadata": {},
     "output_type": "execute_result"
    }
   ],
   "source": [
    "rel_df['Comments'].corr(rel_df['PosterAge'])"
   ]
  },
  {
   "cell_type": "code",
   "execution_count": 32,
   "metadata": {
    "collapsed": false
   },
   "outputs": [],
   "source": [
    "grouped = rel_df.groupby('Flair')\n",
    "score_by_flair = grouped['Score'].median()"
   ]
  },
  {
   "cell_type": "code",
   "execution_count": 33,
   "metadata": {
    "collapsed": false
   },
   "outputs": [
    {
     "data": {
      "text/plain": [
       "Flair\n",
       "Breakups           1081.0\n",
       "Dating              915.0\n",
       "Infidelity         1144.0\n",
       "Non-Romantic       1100.0\n",
       "Personal issues    1270.5\n",
       "Relationships      1101.0\n",
       "Updates            1253.0\n",
       "Name: Score, dtype: float64"
      ]
     },
     "execution_count": 33,
     "metadata": {},
     "output_type": "execute_result"
    }
   ],
   "source": [
    "score_by_flair"
   ]
  },
  {
   "cell_type": "code",
   "execution_count": 131,
   "metadata": {
    "collapsed": false
   },
   "outputs": [
    {
     "data": {
      "text/plain": [
       "<matplotlib.axes._subplots.AxesSubplot at 0x10b901210>"
      ]
     },
     "execution_count": 131,
     "metadata": {},
     "output_type": "execute_result"
    },
    {
     "data": {
      "image/png": "[encoded data removed]",
      "text/plain": [
       "<matplotlib.figure.Figure at 0x10b6bab90>"
      ]
     },
     "metadata": {},
     "output_type": "display_data"
    }
   ],
   "source": [
    "score_by_flair.plot(kind = 'barh', color = 'g')"
   ]
  },
  {
   "cell_type": "code",
   "execution_count": 134,
   "metadata": {
    "collapsed": false
   },
   "outputs": [
    {
     "data": {
      "text/plain": [
       "Flair\n",
       "Breakups           344\n",
       "Dating             501\n",
       "Infidelity         319\n",
       "Non-Romantic       318\n",
       "Personal issues    308\n",
       "Relationships      395\n",
       "Updates            194\n",
       "Name: Comments, dtype: int64"
      ]
     },
     "execution_count": 134,
     "metadata": {},
     "output_type": "execute_result"
    }
   ],
   "source": [
    "grouped = rel_df.groupby('Flair')\n",
    "comm_by_flair = grouped['Comments'].median()\n",
    "comm_by_flair"
   ]
  },
  {
   "cell_type": "code",
   "execution_count": 45,
   "metadata": {
    "collapsed": false
   },
   "outputs": [],
   "source": [
    "rel_df['DayOfWeek'] = rel_df['Date'].dt.dayofweek\n",
    "days = {0: 'Mon', 1: 'Tues', 2: 'Weds', 3: 'Thurs', 4: 'Fri',\n",
    "        5: 'Sat', 6: 'Sun'}\n",
    "rel_df['DayOfWeek'] = rel_df['DayOfWeek'].apply(lambda x: days[x])"
   ]
  },
  {
   "cell_type": "code",
   "execution_count": 61,
   "metadata": {
    "collapsed": false
   },
   "outputs": [
    {
     "data": {
      "text/html": [
       "<div>\n",
       "<table border=\"1\" class=\"dataframe\">\n",
       "  <thead>\n",
       "    <tr style=\"text-align: right;\">\n",
       "      <th></th>\n",
       "      <th>Comments</th>\n",
       "      <th>Date</th>\n",
       "      <th>Flair</th>\n",
       "      <th>Score</th>\n",
       "      <th>Title</th>\n",
       "      <th>PosterAge</th>\n",
       "      <th>PosterSex</th>\n",
       "      <th>DayOfWeek</th>\n",
       "    </tr>\n",
       "  </thead>\n",
       "  <tbody>\n",
       "    <tr>\n",
       "      <th>0</th>\n",
       "      <td>901</td>\n",
       "      <td>2015-08-21 20:07:02</td>\n",
       "      <td>Updates</td>\n",
       "      <td>7677</td>\n",
       "      <td>[UPDATE]My [26 F] with my husband [29 M] 1 yea...</td>\n",
       "      <td>26</td>\n",
       "      <td>F</td>\n",
       "      <td>Fri</td>\n",
       "    </tr>\n",
       "    <tr>\n",
       "      <th>1</th>\n",
       "      <td>631</td>\n",
       "      <td>2015-08-07 15:50:46</td>\n",
       "      <td>Updates</td>\n",
       "      <td>5989</td>\n",
       "      <td>Update: I [30 F] am sitting in the back of my ...</td>\n",
       "      <td>30</td>\n",
       "      <td>F</td>\n",
       "      <td>Fri</td>\n",
       "    </tr>\n",
       "    <tr>\n",
       "      <th>2</th>\n",
       "      <td>622</td>\n",
       "      <td>2015-06-23 02:20:34</td>\n",
       "      <td>Updates</td>\n",
       "      <td>5484</td>\n",
       "      <td>UPDATE: My fiancee (24F) has no bridesmaids an...</td>\n",
       "      <td>25</td>\n",
       "      <td>M</td>\n",
       "      <td>Tues</td>\n",
       "    </tr>\n",
       "    <tr>\n",
       "      <th>3</th>\n",
       "      <td>973</td>\n",
       "      <td>2015-08-01 01:38:10</td>\n",
       "      <td>NaN</td>\n",
       "      <td>5269</td>\n",
       "      <td>My [42M] daughter [17F] has been bullying a gi...</td>\n",
       "      <td>42</td>\n",
       "      <td>M</td>\n",
       "      <td>Sat</td>\n",
       "    </tr>\n",
       "    <tr>\n",
       "      <th>4</th>\n",
       "      <td>769</td>\n",
       "      <td>2015-08-25 22:51:57</td>\n",
       "      <td>Updates</td>\n",
       "      <td>5170</td>\n",
       "      <td>[Update] My [26F] fiance's [28M] ex-wife [28F]...</td>\n",
       "      <td>26</td>\n",
       "      <td>F</td>\n",
       "      <td>Tues</td>\n",
       "    </tr>\n",
       "    <tr>\n",
       "      <th>5</th>\n",
       "      <td>515</td>\n",
       "      <td>2015-09-02 12:30:58</td>\n",
       "      <td>NaN</td>\n",
       "      <td>5084</td>\n",
       "      <td>Me [42F] with my son [15M] - should I have a t...</td>\n",
       "      <td>42</td>\n",
       "      <td>F</td>\n",
       "      <td>Weds</td>\n",
       "    </tr>\n",
       "    <tr>\n",
       "      <th>6</th>\n",
       "      <td>428</td>\n",
       "      <td>2015-02-20 00:57:46</td>\n",
       "      <td>Updates</td>\n",
       "      <td>4763</td>\n",
       "      <td>UPDATE: Me [23 M] with my Fiance [24 F] of 3 y...</td>\n",
       "      <td>23</td>\n",
       "      <td>M</td>\n",
       "      <td>Fri</td>\n",
       "    </tr>\n",
       "    <tr>\n",
       "      <th>7</th>\n",
       "      <td>161</td>\n",
       "      <td>2015-08-23 14:48:03</td>\n",
       "      <td>Updates</td>\n",
       "      <td>4710</td>\n",
       "      <td>UPDATE Me [26F] with my mother [49F] Who wants...</td>\n",
       "      <td>26</td>\n",
       "      <td>F</td>\n",
       "      <td>Sun</td>\n",
       "    </tr>\n",
       "    <tr>\n",
       "      <th>8</th>\n",
       "      <td>289</td>\n",
       "      <td>2015-07-26 15:54:21</td>\n",
       "      <td>Updates</td>\n",
       "      <td>4574</td>\n",
       "      <td>(update)I(30m) just found out my girlfriend(28...</td>\n",
       "      <td>30</td>\n",
       "      <td>M</td>\n",
       "      <td>Sun</td>\n",
       "    </tr>\n",
       "    <tr>\n",
       "      <th>9</th>\n",
       "      <td>618</td>\n",
       "      <td>2014-12-06 23:50:18</td>\n",
       "      <td>Infidelity</td>\n",
       "      <td>4494</td>\n",
       "      <td>[UPDATE 2] I [22M] suspect something between m...</td>\n",
       "      <td>22</td>\n",
       "      <td>M</td>\n",
       "      <td>Sat</td>\n",
       "    </tr>\n",
       "  </tbody>\n",
       "</table>\n",
       "</div>"
      ],
      "text/plain": [
       "   Comments                Date       Flair  Score  \\\n",
       "0       901 2015-08-21 20:07:02     Updates   7677   \n",
       "1       631 2015-08-07 15:50:46     Updates   5989   \n",
       "2       622 2015-06-23 02:20:34     Updates   5484   \n",
       "3       973 2015-08-01 01:38:10         NaN   5269   \n",
       "4       769 2015-08-25 22:51:57     Updates   5170   \n",
       "5       515 2015-09-02 12:30:58         NaN   5084   \n",
       "6       428 2015-02-20 00:57:46     Updates   4763   \n",
       "7       161 2015-08-23 14:48:03     Updates   4710   \n",
       "8       289 2015-07-26 15:54:21     Updates   4574   \n",
       "9       618 2014-12-06 23:50:18  Infidelity   4494   \n",
       "\n",
       "                                               Title  PosterAge PosterSex  \\\n",
       "0  [UPDATE]My [26 F] with my husband [29 M] 1 yea...         26         F   \n",
       "1  Update: I [30 F] am sitting in the back of my ...         30         F   \n",
       "2  UPDATE: My fiancee (24F) has no bridesmaids an...         25         M   \n",
       "3  My [42M] daughter [17F] has been bullying a gi...         42         M   \n",
       "4  [Update] My [26F] fiance's [28M] ex-wife [28F]...         26         F   \n",
       "5  Me [42F] with my son [15M] - should I have a t...         42         F   \n",
       "6  UPDATE: Me [23 M] with my Fiance [24 F] of 3 y...         23         M   \n",
       "7  UPDATE Me [26F] with my mother [49F] Who wants...         26         F   \n",
       "8  (update)I(30m) just found out my girlfriend(28...         30         M   \n",
       "9  [UPDATE 2] I [22M] suspect something between m...         22         M   \n",
       "\n",
       "  DayOfWeek  \n",
       "0       Fri  \n",
       "1       Fri  \n",
       "2      Tues  \n",
       "3       Sat  \n",
       "4      Tues  \n",
       "5      Weds  \n",
       "6       Fri  \n",
       "7       Sun  \n",
       "8       Sun  \n",
       "9       Sat  "
      ]
     },
     "execution_count": 61,
     "metadata": {},
     "output_type": "execute_result"
    }
   ],
   "source": [
    "rel_df[:10]"
   ]
  },
  {
   "cell_type": "code",
   "execution_count": 47,
   "metadata": {
    "collapsed": false
   },
   "outputs": [
    {
     "data": {
      "text/plain": [
       "DayOfWeek\n",
       "Fri      262.0\n",
       "Mon      241.0\n",
       "Sat      281.5\n",
       "Sun      242.0\n",
       "Thurs    287.0\n",
       "Tues     248.0\n",
       "Weds     319.0\n",
       "Name: Comments, dtype: float64"
      ]
     },
     "execution_count": 47,
     "metadata": {},
     "output_type": "execute_result"
    }
   ],
   "source": [
    "rel_df['Comments'].groupby([rel_df['DayOfWeek']]).median()"
   ]
  },
  {
   "cell_type": "code",
   "execution_count": 60,
   "metadata": {
    "collapsed": false
   },
   "outputs": [
    {
     "data": {
      "text/plain": [
       "DayOfWeek\n",
       "Fri      1273.0\n",
       "Mon      1197.5\n",
       "Sat      1237.5\n",
       "Sun      1208.0\n",
       "Thurs    1095.0\n",
       "Tues     1167.0\n",
       "Weds     1206.0\n",
       "Name: Score, dtype: float64"
      ]
     },
     "execution_count": 60,
     "metadata": {},
     "output_type": "execute_result"
    }
   ],
   "source": [
    "rel_df['Score'].groupby([rel_df['DayOfWeek']]).median()"
   ]
  },
  {
   "cell_type": "code",
   "execution_count": 59,
   "metadata": {
    "collapsed": false
   },
   "outputs": [
    {
     "data": {
      "text/html": [
       "<div>\n",
       "<table border=\"1\" class=\"dataframe\">\n",
       "  <thead>\n",
       "    <tr style=\"text-align: right;\">\n",
       "      <th></th>\n",
       "      <th></th>\n",
       "      <th>Score</th>\n",
       "      <th>Comments</th>\n",
       "    </tr>\n",
       "    <tr>\n",
       "      <th>DayOfWeek</th>\n",
       "      <th>Flair</th>\n",
       "      <th></th>\n",
       "      <th></th>\n",
       "    </tr>\n",
       "  </thead>\n",
       "  <tbody>\n",
       "    <tr>\n",
       "      <th rowspan=\"6\" valign=\"top\">Fri</th>\n",
       "      <th>Breakups</th>\n",
       "      <td>935.0</td>\n",
       "      <td>150.0</td>\n",
       "    </tr>\n",
       "    <tr>\n",
       "      <th>Infidelity</th>\n",
       "      <td>985.5</td>\n",
       "      <td>254.5</td>\n",
       "    </tr>\n",
       "    <tr>\n",
       "      <th>Non-Romantic</th>\n",
       "      <td>1067.0</td>\n",
       "      <td>317.0</td>\n",
       "    </tr>\n",
       "    <tr>\n",
       "      <th>Personal issues</th>\n",
       "      <td>1448.5</td>\n",
       "      <td>424.0</td>\n",
       "    </tr>\n",
       "    <tr>\n",
       "      <th>Relationships</th>\n",
       "      <td>1219.0</td>\n",
       "      <td>428.0</td>\n",
       "    </tr>\n",
       "    <tr>\n",
       "      <th>Updates</th>\n",
       "      <td>1335.0</td>\n",
       "      <td>203.0</td>\n",
       "    </tr>\n",
       "    <tr>\n",
       "      <th rowspan=\"6\" valign=\"top\">Mon</th>\n",
       "      <th>Breakups</th>\n",
       "      <td>1081.0</td>\n",
       "      <td>396.0</td>\n",
       "    </tr>\n",
       "    <tr>\n",
       "      <th>Infidelity</th>\n",
       "      <td>1055.0</td>\n",
       "      <td>317.5</td>\n",
       "    </tr>\n",
       "    <tr>\n",
       "      <th>Non-Romantic</th>\n",
       "      <td>1051.5</td>\n",
       "      <td>255.5</td>\n",
       "    </tr>\n",
       "    <tr>\n",
       "      <th>Personal issues</th>\n",
       "      <td>1022.0</td>\n",
       "      <td>190.0</td>\n",
       "    </tr>\n",
       "    <tr>\n",
       "      <th>Relationships</th>\n",
       "      <td>1030.0</td>\n",
       "      <td>416.5</td>\n",
       "    </tr>\n",
       "    <tr>\n",
       "      <th>Updates</th>\n",
       "      <td>1274.0</td>\n",
       "      <td>192.0</td>\n",
       "    </tr>\n",
       "    <tr>\n",
       "      <th rowspan=\"7\" valign=\"top\">Sat</th>\n",
       "      <th>Breakups</th>\n",
       "      <td>1566.0</td>\n",
       "      <td>444.0</td>\n",
       "    </tr>\n",
       "    <tr>\n",
       "      <th>Dating</th>\n",
       "      <td>770.0</td>\n",
       "      <td>397.0</td>\n",
       "    </tr>\n",
       "    <tr>\n",
       "      <th>Infidelity</th>\n",
       "      <td>1400.0</td>\n",
       "      <td>286.0</td>\n",
       "    </tr>\n",
       "    <tr>\n",
       "      <th>Non-Romantic</th>\n",
       "      <td>1065.0</td>\n",
       "      <td>266.5</td>\n",
       "    </tr>\n",
       "    <tr>\n",
       "      <th>Personal issues</th>\n",
       "      <td>1238.0</td>\n",
       "      <td>147.0</td>\n",
       "    </tr>\n",
       "    <tr>\n",
       "      <th>Relationships</th>\n",
       "      <td>1031.0</td>\n",
       "      <td>395.0</td>\n",
       "    </tr>\n",
       "    <tr>\n",
       "      <th>Updates</th>\n",
       "      <td>1454.0</td>\n",
       "      <td>188.0</td>\n",
       "    </tr>\n",
       "    <tr>\n",
       "      <th rowspan=\"7\" valign=\"top\">Sun</th>\n",
       "      <th>Breakups</th>\n",
       "      <td>1152.5</td>\n",
       "      <td>256.5</td>\n",
       "    </tr>\n",
       "    <tr>\n",
       "      <th>Dating</th>\n",
       "      <td>946.5</td>\n",
       "      <td>379.0</td>\n",
       "    </tr>\n",
       "    <tr>\n",
       "      <th>Infidelity</th>\n",
       "      <td>1209.0</td>\n",
       "      <td>367.0</td>\n",
       "    </tr>\n",
       "    <tr>\n",
       "      <th>Non-Romantic</th>\n",
       "      <td>1032.0</td>\n",
       "      <td>366.0</td>\n",
       "    </tr>\n",
       "    <tr>\n",
       "      <th>Personal issues</th>\n",
       "      <td>1553.0</td>\n",
       "      <td>308.0</td>\n",
       "    </tr>\n",
       "    <tr>\n",
       "      <th>Relationships</th>\n",
       "      <td>1017.5</td>\n",
       "      <td>350.0</td>\n",
       "    </tr>\n",
       "    <tr>\n",
       "      <th>Updates</th>\n",
       "      <td>1306.5</td>\n",
       "      <td>156.5</td>\n",
       "    </tr>\n",
       "    <tr>\n",
       "      <th rowspan=\"5\" valign=\"top\">Thurs</th>\n",
       "      <th>Breakups</th>\n",
       "      <td>968.5</td>\n",
       "      <td>937.5</td>\n",
       "    </tr>\n",
       "    <tr>\n",
       "      <th>Infidelity</th>\n",
       "      <td>931.0</td>\n",
       "      <td>340.0</td>\n",
       "    </tr>\n",
       "    <tr>\n",
       "      <th>Non-Romantic</th>\n",
       "      <td>1237.0</td>\n",
       "      <td>357.5</td>\n",
       "    </tr>\n",
       "    <tr>\n",
       "      <th>Relationships</th>\n",
       "      <td>1061.0</td>\n",
       "      <td>345.0</td>\n",
       "    </tr>\n",
       "    <tr>\n",
       "      <th>Updates</th>\n",
       "      <td>1092.0</td>\n",
       "      <td>199.0</td>\n",
       "    </tr>\n",
       "    <tr>\n",
       "      <th rowspan=\"7\" valign=\"top\">Tues</th>\n",
       "      <th>Breakups</th>\n",
       "      <td>1095.0</td>\n",
       "      <td>344.0</td>\n",
       "    </tr>\n",
       "    <tr>\n",
       "      <th>Dating</th>\n",
       "      <td>953.0</td>\n",
       "      <td>697.0</td>\n",
       "    </tr>\n",
       "    <tr>\n",
       "      <th>Infidelity</th>\n",
       "      <td>1144.0</td>\n",
       "      <td>360.0</td>\n",
       "    </tr>\n",
       "    <tr>\n",
       "      <th>Non-Romantic</th>\n",
       "      <td>1200.0</td>\n",
       "      <td>321.0</td>\n",
       "    </tr>\n",
       "    <tr>\n",
       "      <th>Personal issues</th>\n",
       "      <td>1211.0</td>\n",
       "      <td>218.0</td>\n",
       "    </tr>\n",
       "    <tr>\n",
       "      <th>Relationships</th>\n",
       "      <td>941.5</td>\n",
       "      <td>390.5</td>\n",
       "    </tr>\n",
       "    <tr>\n",
       "      <th>Updates</th>\n",
       "      <td>1196.0</td>\n",
       "      <td>191.0</td>\n",
       "    </tr>\n",
       "    <tr>\n",
       "      <th rowspan=\"6\" valign=\"top\">Weds</th>\n",
       "      <th>Breakups</th>\n",
       "      <td>1167.0</td>\n",
       "      <td>350.0</td>\n",
       "    </tr>\n",
       "    <tr>\n",
       "      <th>Infidelity</th>\n",
       "      <td>1158.0</td>\n",
       "      <td>384.0</td>\n",
       "    </tr>\n",
       "    <tr>\n",
       "      <th>Non-Romantic</th>\n",
       "      <td>1141.0</td>\n",
       "      <td>438.0</td>\n",
       "    </tr>\n",
       "    <tr>\n",
       "      <th>Personal issues</th>\n",
       "      <td>1457.0</td>\n",
       "      <td>413.0</td>\n",
       "    </tr>\n",
       "    <tr>\n",
       "      <th>Relationships</th>\n",
       "      <td>1243.0</td>\n",
       "      <td>397.0</td>\n",
       "    </tr>\n",
       "    <tr>\n",
       "      <th>Updates</th>\n",
       "      <td>1219.0</td>\n",
       "      <td>230.0</td>\n",
       "    </tr>\n",
       "  </tbody>\n",
       "</table>\n",
       "</div>"
      ],
      "text/plain": [
       "                            Score  Comments\n",
       "DayOfWeek Flair                            \n",
       "Fri       Breakups          935.0     150.0\n",
       "          Infidelity        985.5     254.5\n",
       "          Non-Romantic     1067.0     317.0\n",
       "          Personal issues  1448.5     424.0\n",
       "          Relationships    1219.0     428.0\n",
       "          Updates          1335.0     203.0\n",
       "Mon       Breakups         1081.0     396.0\n",
       "          Infidelity       1055.0     317.5\n",
       "          Non-Romantic     1051.5     255.5\n",
       "          Personal issues  1022.0     190.0\n",
       "          Relationships    1030.0     416.5\n",
       "          Updates          1274.0     192.0\n",
       "Sat       Breakups         1566.0     444.0\n",
       "          Dating            770.0     397.0\n",
       "          Infidelity       1400.0     286.0\n",
       "          Non-Romantic     1065.0     266.5\n",
       "          Personal issues  1238.0     147.0\n",
       "          Relationships    1031.0     395.0\n",
       "          Updates          1454.0     188.0\n",
       "Sun       Breakups         1152.5     256.5\n",
       "          Dating            946.5     379.0\n",
       "          Infidelity       1209.0     367.0\n",
       "          Non-Romantic     1032.0     366.0\n",
       "          Personal issues  1553.0     308.0\n",
       "          Relationships    1017.5     350.0\n",
       "          Updates          1306.5     156.5\n",
       "Thurs     Breakups          968.5     937.5\n",
       "          Infidelity        931.0     340.0\n",
       "          Non-Romantic     1237.0     357.5\n",
       "          Relationships    1061.0     345.0\n",
       "          Updates          1092.0     199.0\n",
       "Tues      Breakups         1095.0     344.0\n",
       "          Dating            953.0     697.0\n",
       "          Infidelity       1144.0     360.0\n",
       "          Non-Romantic     1200.0     321.0\n",
       "          Personal issues  1211.0     218.0\n",
       "          Relationships     941.5     390.5\n",
       "          Updates          1196.0     191.0\n",
       "Weds      Breakups         1167.0     350.0\n",
       "          Infidelity       1158.0     384.0\n",
       "          Non-Romantic     1141.0     438.0\n",
       "          Personal issues  1457.0     413.0\n",
       "          Relationships    1243.0     397.0\n",
       "          Updates          1219.0     230.0"
      ]
     },
     "execution_count": 59,
     "metadata": {},
     "output_type": "execute_result"
    }
   ],
   "source": [
    "rel_df.groupby(['DayOfWeek', 'Flair'])[\n",
    "    ['Score', 'Comments']].median()"
   ]
  },
  {
   "cell_type": "code",
   "execution_count": 74,
   "metadata": {
    "collapsed": false
   },
   "outputs": [],
   "source": [
    "score_day_flair = rel_df.groupby(['DayOfWeek', 'Flair']\n",
    "                                )['Score'].median()\n",
    "score_day_flair = score_day_flair.unstack()\n",
    "score_day_flair = score_day_flair.drop('Dating', 1)\n",
    "score_day_flair = score_day_flair.reindex(['Mon', 'Tues', 'Weds', \n",
    "                                           'Thurs', 'Fri', 'Sat', \n",
    "                                           'Sun'])"
   ]
  },
  {
   "cell_type": "code",
   "execution_count": 76,
   "metadata": {
    "collapsed": false
   },
   "outputs": [
    {
     "data": {
      "text/plain": [
       "<matplotlib.axes._subplots.AxesSubplot at 0x10a137090>"
      ]
     },
     "execution_count": 76,
     "metadata": {},
     "output_type": "execute_result"
    },
    {
     "data": {
      "image/png": "[encoded data removed]",
      "text/plain": [
       "<matplotlib.figure.Figure at 0x109d69e50>"
      ]
     },
     "metadata": {},
     "output_type": "display_data"
    }
   ],
   "source": [
    "score_day_flair.plot(kind = 'barh')"
   ]
  },
  {
   "cell_type": "code",
   "execution_count": 81,
   "metadata": {
    "collapsed": true
   },
   "outputs": [],
   "source": [
    "score_flair = rel_df.groupby('DayOfWeek')['Score'].median()\n",
    "score_flair = score_flair.reindex(['Mon', 'Tues', 'Weds', 'Thurs', \n",
    "                                   'Fri', 'Sat', 'Sun'])"
   ]
  },
  {
   "cell_type": "code",
   "execution_count": 82,
   "metadata": {
    "collapsed": false
   },
   "outputs": [
    {
     "data": {
      "text/plain": [
       "DayOfWeek\n",
       "Mon      1197.5\n",
       "Tues     1167.0\n",
       "Weds     1206.0\n",
       "Thurs    1095.0\n",
       "Fri      1273.0\n",
       "Sat      1237.5\n",
       "Sun      1208.0\n",
       "Name: Score, dtype: float64"
      ]
     },
     "execution_count": 82,
     "metadata": {},
     "output_type": "execute_result"
    }
   ],
   "source": [
    "score_flair"
   ]
  },
  {
   "cell_type": "code",
   "execution_count": 86,
   "metadata": {
    "collapsed": false
   },
   "outputs": [
    {
     "data": {
      "text/plain": [
       "<matplotlib.axes._subplots.AxesSubplot at 0x10a6d3890>"
      ]
     },
     "execution_count": 86,
     "metadata": {},
     "output_type": "execute_result"
    },
    {
     "data": {
      "image/png": "[encoded data removed]",
      "text/plain": [
       "<matplotlib.figure.Figure at 0x10a6ec5d0>"
      ]
     },
     "metadata": {},
     "output_type": "display_data"
    }
   ],
   "source": [
    "score_flair.plot()"
   ]
  },
  {
   "cell_type": "code",
   "execution_count": 91,
   "metadata": {
    "collapsed": true
   },
   "outputs": [],
   "source": [
    "score_com_day = rel_df.groupby('DayOfWeek')[\n",
    "    ['Score', 'Comments']].median()\n",
    "score_com_day = score_com_day.reindex(['Mon', 'Tues', 'Weds', \n",
    "                                       'Thurs', 'Fri', 'Sat', \n",
    "                                       'Sun'])"
   ]
  },
  {
   "cell_type": "code",
   "execution_count": 114,
   "metadata": {
    "collapsed": false
   },
   "outputs": [
    {
     "data": {
      "text/html": [
       "<div>\n",
       "<table border=\"1\" class=\"dataframe\">\n",
       "  <thead>\n",
       "    <tr style=\"text-align: right;\">\n",
       "      <th>DayOfWeek</th>\n",
       "      <th>Mon</th>\n",
       "      <th>Tues</th>\n",
       "      <th>Weds</th>\n",
       "      <th>Thurs</th>\n",
       "      <th>Fri</th>\n",
       "      <th>Sat</th>\n",
       "      <th>Sun</th>\n",
       "    </tr>\n",
       "  </thead>\n",
       "  <tbody>\n",
       "    <tr>\n",
       "      <th>Score</th>\n",
       "      <td>0.142832</td>\n",
       "      <td>0.139194</td>\n",
       "      <td>0.143845</td>\n",
       "      <td>0.130606</td>\n",
       "      <td>0.151837</td>\n",
       "      <td>0.147603</td>\n",
       "      <td>0.144084</td>\n",
       "    </tr>\n",
       "    <tr>\n",
       "      <th>Comments</th>\n",
       "      <td>0.128157</td>\n",
       "      <td>0.131880</td>\n",
       "      <td>0.169636</td>\n",
       "      <td>0.152619</td>\n",
       "      <td>0.139325</td>\n",
       "      <td>0.149694</td>\n",
       "      <td>0.128689</td>\n",
       "    </tr>\n",
       "  </tbody>\n",
       "</table>\n",
       "</div>"
      ],
      "text/plain": [
       "DayOfWeek       Mon      Tues      Weds     Thurs       Fri       Sat  \\\n",
       "Score      0.142832  0.139194  0.143845  0.130606  0.151837  0.147603   \n",
       "Comments   0.128157  0.131880  0.169636  0.152619  0.139325  0.149694   \n",
       "\n",
       "DayOfWeek       Sun  \n",
       "Score      0.144084  \n",
       "Comments   0.128689  "
      ]
     },
     "execution_count": 114,
     "metadata": {},
     "output_type": "execute_result"
    }
   ],
   "source": [
    "score_com_day = score_com_day.transpose()\n",
    "score_com_pcts = score_com_day.div(score_com_day.sum(1).\n",
    "                                  astype(float), axis = 0)\n",
    "score_com_pcts"
   ]
  },
  {
   "cell_type": "code",
   "execution_count": 121,
   "metadata": {
    "collapsed": false
   },
   "outputs": [
    {
     "data": {
      "text/plain": [
       "<matplotlib.axes._subplots.AxesSubplot at 0x10b3eba50>"
      ]
     },
     "execution_count": 121,
     "metadata": {},
     "output_type": "execute_result"
    },
    {
     "data": {
      "image/png": "[encoded data removed]",
      "text/plain": [
       "<matplotlib.figure.Figure at 0x10b2d4110>"
      ]
     },
     "metadata": {},
     "output_type": "display_data"
    }
   ],
   "source": [
    "score_com_pcts.transpose().plot()"
   ]
  },
  {
   "cell_type": "code",
   "execution_count": 128,
   "metadata": {
    "collapsed": false
   },
   "outputs": [
    {
     "data": {
      "text/plain": [
       "<matplotlib.axes._subplots.AxesSubplot at 0x10b593a50>"
      ]
     },
     "execution_count": 128,
     "metadata": {},
     "output_type": "execute_result"
    },
    {
     "data": {
      "image/png": "[encoded data removed]",
      "text/plain": [
       "<matplotlib.figure.Figure at 0x10b6a8f50>"
      ]
     },
     "metadata": {},
     "output_type": "display_data"
    }
   ],
   "source": [
    "score_flair = rel_df.groupby(['Flair', 'PosterSex'])['Score'].median()\n",
    "score_flair.unstack().plot()"
   ]
  },
  {
   "cell_type": "code",
   "execution_count": 130,
   "metadata": {
    "collapsed": false
   },
   "outputs": [
    {
     "data": {
      "text/plain": [
       "<matplotlib.axes._subplots.AxesSubplot at 0x10b51c0d0>"
      ]
     },
     "execution_count": 130,
     "metadata": {},
     "output_type": "execute_result"
    },
    {
     "data": {
      "image/png": "[encoded data removed]",
      "text/plain": [
       "<matplotlib.figure.Figure at 0x10b350950>"
      ]
     },
     "metadata": {},
     "output_type": "display_data"
    }
   ],
   "source": [
    "score_flair = rel_df.groupby(['Flair', 'PosterSex'])['Comments'].median()\n",
    "score_flair.unstack().plot()"
   ]
  },
  {
   "cell_type": "code",
   "execution_count": null,
   "metadata": {
    "collapsed": true
   },
   "outputs": [],
   "source": []
  }
 ],
 "metadata": {
  "kernelspec": {
   "display_name": "Python 2",
   "language": "python",
   "name": "python2"
  },
  "language_info": {
   "codemirror_mode": {
    "name": "ipython",
    "version": 2
   },
   "file_extension": ".py",
   "mimetype": "text/x-python",
   "name": "python",
   "nbconvert_exporter": "python",
   "pygments_lexer": "ipython2",
   "version": "2.7.10"
  }
 },
 "nbformat": 4,
 "nbformat_minor": 0
}
